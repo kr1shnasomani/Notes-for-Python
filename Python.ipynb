{
 "cells": [
  {
   "cell_type": "markdown",
   "id": "fd327d26",
   "metadata": {},
   "source": [
    "<h1 style='text-align: center;'>PYTHON</h1>"
   ]
  }
 ]
}
,
  {
   "cell_type": "markdown",
   "id": "68b9f9d1",
   "metadata": {},
   "source": [
    "### Basic Arthimatic Operators\n",
    "- a + b is addition\n",
    "- a - b is subraction\n",
    "- a // b is division\n",
    "- a * b is multiplication\n",
    "- a ** b is exponentials\n",
    "- a % b is modulus"
   ]
  },
  {
   "cell_type": "code",
   "execution_count": 1,
   "id": "849805f0",
   "metadata": {},
   "outputs": [
    {
     "data": {
      "text/plain": [
       "5"
      ]
     },
     "execution_count": 1,
     "metadata": {},
     "output_type": "execute_result"
    }
   ],
   "source": [
    "10 // 2"
   ]
  },
  {
   "cell_type": "code",
   "execution_count": 2,
   "id": "9143e020",
   "metadata": {},
   "outputs": [
    {
     "data": {
      "text/plain": [
       "0"
      ]
     },
     "execution_count": 2,
     "metadata": {},
     "output_type": "execute_result"
    }
   ],
   "source": [
    "10 % 2"
   ]
  },
  {
   "cell_type": "code",
   "execution_count": 3,
   "id": "afdf7b43",
   "metadata": {},
   "outputs": [
    {
     "data": {
      "text/plain": [
       "100"
      ]
     },
     "execution_count": 3,
     "metadata": {},
     "output_type": "execute_result"
    }
   ],
   "source": [
    "10 ** 2"
   ]
  },
  {
   "cell_type": "markdown",
   "id": "2d2f82ec",
   "metadata": {},
   "source": [
    "### sum Function"
   ]
  },
  {
   "cell_type": "code",
   "execution_count": 4,
   "id": "9225ac42",
   "metadata": {},
   "outputs": [
    {
     "data": {
      "text/plain": [
       "6"
      ]
     },
     "execution_count": 4,
     "metadata": {},
     "output_type": "execute_result"
    }
   ],
   "source": [
    "# sum([a, b, c]) = a + b + c\n",
    "sum([1, 2, 3])"
   ]
  },
  {
   "cell_type": "markdown",
   "id": "9d6d2b39",
   "metadata": {},
   "source": [
    "### abs Function:\n",
    "abs(value) returns the absolute value of a number. The argument may be an integer or a floating point number. If the argument is a complex number, its magnitude is returned."
   ]
  },
  {
   "cell_type": "code",
   "execution_count": 5,
   "id": "5755c481",
   "metadata": {},
   "outputs": [
    {
     "data": {
      "text/plain": [
       "10"
      ]
     },
     "execution_count": 5,
     "metadata": {},
     "output_type": "execute_result"
    }
   ],
   "source": [
    "abs(100-90)"
   ]
  },
  {
   "cell_type": "code",
   "execution_count": 6,
   "id": "19565a6e",
   "metadata": {},
   "outputs": [
    {
     "data": {
      "text/plain": [
       "3.14"
      ]
     },
     "execution_count": 6,
     "metadata": {},
     "output_type": "execute_result"
    }
   ],
   "source": [
    "abs(-3.14)"
   ]
  },
  {
   "cell_type": "markdown",
   "id": "52aeb5d9",
   "metadata": {},
   "source": [
    "### hex Function:\n",
    "Using the function hex() you can convert numbers into a hexadecimal format"
   ]
  },
  {
   "cell_type": "code",
   "execution_count": 7,
   "id": "5698f900",
   "metadata": {},
   "outputs": [
    {
     "data": {
      "text/plain": [
       "'0x116'"
      ]
     },
     "execution_count": 7,
     "metadata": {},
     "output_type": "execute_result"
    }
   ],
   "source": [
    "hex(278)"
   ]
  },
  {
   "cell_type": "code",
   "execution_count": 8,
   "id": "6a5093d2",
   "metadata": {},
   "outputs": [
    {
     "data": {
      "text/plain": [
       "'0x7d5'"
      ]
     },
     "execution_count": 8,
     "metadata": {},
     "output_type": "execute_result"
    }
   ],
   "source": [
    "hex(2005)"
   ]
  },
  {
   "cell_type": "markdown",
   "id": "3146aea3",
   "metadata": {},
   "source": [
    "### bin Function:\n",
    "Using the function bin() you can convert numbers into their binary format"
   ]
  },
  {
   "cell_type": "code",
   "execution_count": 9,
   "id": "e7d0b0fc",
   "metadata": {},
   "outputs": [
    {
     "data": {
      "text/plain": [
       "'0b11110111010'"
      ]
     },
     "execution_count": 9,
     "metadata": {},
     "output_type": "execute_result"
    }
   ],
   "source": [
    "bin(1978)"
   ]
  },
  {
   "cell_type": "code",
   "execution_count": 10,
   "id": "a2894145",
   "metadata": {},
   "outputs": [
    {
     "data": {
      "text/plain": [
       "'0b11110110110'"
      ]
     },
     "execution_count": 10,
     "metadata": {},
     "output_type": "execute_result"
    }
   ],
   "source": [
    "bin(1974)"
   ]
  },
  {
   "cell_type": "markdown",
   "id": "ba0f9ef2",
   "metadata": {},
   "source": [
    "### pow Function:\n",
    "The function pow() takes two arguments, equivalent to x^y. With three arguments it is equivalent to (x^y)%z."
   ]
  },
  {
   "cell_type": "code",
   "execution_count": 11,
   "id": "40ea2de5",
   "metadata": {},
   "outputs": [
    {
     "data": {
      "text/plain": [
       "8"
      ]
     },
     "execution_count": 11,
     "metadata": {},
     "output_type": "execute_result"
    }
   ],
   "source": [
    "pow(2,3)"
   ]
  },
  {
   "cell_type": "code",
   "execution_count": 12,
   "id": "3ed8d504",
   "metadata": {},
   "outputs": [
    {
     "data": {
      "text/plain": [
       "0"
      ]
     },
     "execution_count": 12,
     "metadata": {},
     "output_type": "execute_result"
    }
   ],
   "source": [
    "pow(2,3,4)"
   ]
  },
  {
   "cell_type": "markdown",
   "id": "8ca90ab9",
   "metadata": {},
   "source": [
    "### round Function:\n",
    "The function round() can do two thing. It can round off the integer into a whole number or round off the integer to the decimal places provided."
   ]
  },
  {
   "cell_type": "code",
   "execution_count": 13,
   "id": "fbbd0a16",
   "metadata": {},
   "outputs": [
    {
     "data": {
      "text/plain": [
       "3"
      ]
     },
     "execution_count": 13,
     "metadata": {},
     "output_type": "execute_result"
    }
   ],
   "source": [
    "round(3.141592)"
   ]
  },
  {
   "cell_type": "code",
   "execution_count": 14,
   "id": "c96c3ba7",
   "metadata": {},
   "outputs": [
    {
     "data": {
      "text/plain": [
       "3.142"
      ]
     },
     "execution_count": 14,
     "metadata": {},
     "output_type": "execute_result"
    }
   ],
   "source": [
    "round(3.141592, 3) "
   ]
  },
  {
   "cell_type": "markdown",
   "id": "a8fe3ee3",
   "metadata": {},
   "source": [
    "### Variable Redefining"
   ]
  },
  {
   "cell_type": "code",
   "execution_count": 15,
   "id": "cba56d42",
   "metadata": {},
   "outputs": [
    {
     "name": "stdout",
     "output_type": "stream",
     "text": [
      "10\n"
     ]
    }
   ],
   "source": [
    "a = 5\n",
    "a = a + a\n",
    "print(a)"
   ]
  },
  {
   "cell_type": "markdown",
   "id": "89691da7",
   "metadata": {},
   "source": [
    "### Determining Variable Type:\n",
    "Using type() function we can check what type of object is assigned to the variable. Common data types are:\n",
    "- int (integer)\n",
    "- float (floating points)\n",
    "- str (string)\n",
    "- list\n",
    "- tup (tuples)\n",
    "- dict (dictionary)\n",
    "- set\n",
    "- bool (booleans)"
   ]
  },
  {
   "cell_type": "code",
   "execution_count": 16,
   "id": "09f74baf",
   "metadata": {},
   "outputs": [
    {
     "data": {
      "text/plain": [
       "float"
      ]
     },
     "execution_count": 16,
     "metadata": {},
     "output_type": "execute_result"
    }
   ],
   "source": [
    "type(2.7)"
   ]
  },
  {
   "cell_type": "markdown",
   "id": "82df3a2a",
   "metadata": {},
   "source": [
    "### Determining String Length:\n",
    "Using len() function we can check the number of characters and spaces used in the string."
   ]
  },
  {
   "cell_type": "code",
   "execution_count": 17,
   "id": "e8ef2ab9",
   "metadata": {},
   "outputs": [
    {
     "data": {
      "text/plain": [
       "11"
      ]
     },
     "execution_count": 17,
     "metadata": {},
     "output_type": "execute_result"
    }
   ],
   "source": [
    "len('Hello World')"
   ]
  },
  {
   "cell_type": "markdown",
   "id": "c241c4c2",
   "metadata": {},
   "source": [
    "### String Indexing:\n",
    "We use [ ] after an object to call its index. Note that indexing starts at 0."
   ]
  },
  {
   "cell_type": "code",
   "execution_count": 18,
   "id": "2c7b5049",
   "metadata": {},
   "outputs": [],
   "source": [
    "s = 'Hello World'"
   ]
  },
  {
   "cell_type": "code",
   "execution_count": 19,
   "id": "2b473dca",
   "metadata": {},
   "outputs": [
    {
     "data": {
      "text/plain": [
       "'e'"
      ]
     },
     "execution_count": 19,
     "metadata": {},
     "output_type": "execute_result"
    }
   ],
   "source": [
    "s[1]"
   ]
  },
  {
   "cell_type": "code",
   "execution_count": 20,
   "id": "8794e803",
   "metadata": {},
   "outputs": [
    {
     "data": {
      "text/plain": [
       "'W'"
      ]
     },
     "execution_count": 20,
     "metadata": {},
     "output_type": "execute_result"
    }
   ],
   "source": [
    "s[6]"
   ]
  },
  {
   "cell_type": "code",
   "execution_count": 21,
   "id": "3a62570b",
   "metadata": {},
   "outputs": [
    {
     "data": {
      "text/plain": [
       "'d'"
      ]
     },
     "execution_count": 21,
     "metadata": {},
     "output_type": "execute_result"
    }
   ],
   "source": [
    "s[-1]"
   ]
  },
  {
   "cell_type": "code",
   "execution_count": 22,
   "id": "b3444626",
   "metadata": {},
   "outputs": [
    {
     "data": {
      "text/plain": [
       "'lo World'"
      ]
     },
     "execution_count": 22,
     "metadata": {},
     "output_type": "execute_result"
    }
   ],
   "source": [
    "s[3:]"
   ]
  },
  {
   "cell_type": "code",
   "execution_count": 23,
   "id": "0db3a5a8",
   "metadata": {},
   "outputs": [
    {
     "data": {
      "text/plain": [
       "'Hel'"
      ]
     },
     "execution_count": 23,
     "metadata": {},
     "output_type": "execute_result"
    }
   ],
   "source": [
    "s[:3]"
   ]
  },
  {
   "cell_type": "code",
   "execution_count": 24,
   "id": "afd5cd1e",
   "metadata": {},
   "outputs": [
    {
     "data": {
      "text/plain": [
       "'Hello World'"
      ]
     },
     "execution_count": 24,
     "metadata": {},
     "output_type": "execute_result"
    }
   ],
   "source": [
    "s[:]"
   ]
  },
  {
   "cell_type": "code",
   "execution_count": 25,
   "id": "ed4598cd",
   "metadata": {},
   "outputs": [
    {
     "data": {
      "text/plain": [
       "'Hello Worl'"
      ]
     },
     "execution_count": 25,
     "metadata": {},
     "output_type": "execute_result"
    }
   ],
   "source": [
    "s[:-1]"
   ]
  },
  {
   "cell_type": "code",
   "execution_count": 26,
   "id": "94ac480a",
   "metadata": {},
   "outputs": [
    {
     "data": {
      "text/plain": [
       "'llo World'"
      ]
     },
     "execution_count": 26,
     "metadata": {},
     "output_type": "execute_result"
    }
   ],
   "source": [
    "s[-9:]"
   ]
  },
  {
   "cell_type": "code",
   "execution_count": 27,
   "id": "5fc27f71",
   "metadata": {},
   "outputs": [
    {
     "data": {
      "text/plain": [
       "'Hello World'"
      ]
     },
     "execution_count": 27,
     "metadata": {},
     "output_type": "execute_result"
    }
   ],
   "source": [
    "s[::1]"
   ]
  },
  {
   "cell_type": "code",
   "execution_count": 28,
   "id": "7fe50d1b",
   "metadata": {},
   "outputs": [
    {
     "data": {
      "text/plain": [
       "'HloWrd'"
      ]
     },
     "execution_count": 28,
     "metadata": {},
     "output_type": "execute_result"
    }
   ],
   "source": [
    "s[::2]"
   ]
  },
  {
   "cell_type": "code",
   "execution_count": 29,
   "id": "2558b7d5",
   "metadata": {},
   "outputs": [
    {
     "data": {
      "text/plain": [
       "'dlroW olleH'"
      ]
     },
     "execution_count": 29,
     "metadata": {},
     "output_type": "execute_result"
    }
   ],
   "source": [
    "s[::-1]"
   ]
  },
  {
   "cell_type": "code",
   "execution_count": 30,
   "id": "086c98ab",
   "metadata": {},
   "outputs": [
    {
     "data": {
      "text/plain": [
       "'Hello World, welcome to Python!'"
      ]
     },
     "execution_count": 30,
     "metadata": {},
     "output_type": "execute_result"
    }
   ],
   "source": [
    "s + ', welcome to Python!'"
   ]
  },
  {
   "cell_type": "code",
   "execution_count": 31,
   "id": "279e2f49",
   "metadata": {},
   "outputs": [
    {
     "data": {
      "text/plain": [
       "'Hello WorldHello WorldHello World'"
      ]
     },
     "execution_count": 31,
     "metadata": {},
     "output_type": "execute_result"
    }
   ],
   "source": [
    "s*3"
   ]
  },
  {
   "cell_type": "code",
   "execution_count": 32,
   "id": "1192cb31",
   "metadata": {},
   "outputs": [
    {
     "data": {
      "text/plain": [
       "'HELLO WORLD'"
      ]
     },
     "execution_count": 32,
     "metadata": {},
     "output_type": "execute_result"
    }
   ],
   "source": [
    "s.upper()"
   ]
  },
  {
   "cell_type": "code",
   "execution_count": 33,
   "id": "92cc03af",
   "metadata": {},
   "outputs": [
    {
     "data": {
      "text/plain": [
       "'hello world'"
      ]
     },
     "execution_count": 33,
     "metadata": {},
     "output_type": "execute_result"
    }
   ],
   "source": [
    "s.lower()"
   ]
  },
  {
   "cell_type": "code",
   "execution_count": 34,
   "id": "e34c8bc4",
   "metadata": {},
   "outputs": [
    {
     "data": {
      "text/plain": [
       "'Hello world'"
      ]
     },
     "execution_count": 34,
     "metadata": {},
     "output_type": "execute_result"
    }
   ],
   "source": [
    "s.capitalize()"
   ]
  },
  {
   "cell_type": "code",
   "execution_count": 35,
   "id": "0359a84f",
   "metadata": {},
   "outputs": [
    {
     "data": {
      "text/plain": [
       "['Hello', 'World']"
      ]
     },
     "execution_count": 35,
     "metadata": {},
     "output_type": "execute_result"
    }
   ],
   "source": [
    "s.split()"
   ]
  },
  {
   "cell_type": "code",
   "execution_count": 36,
   "id": "d1eb098f",
   "metadata": {},
   "outputs": [
    {
     "data": {
      "text/plain": [
       "['Hell', ' W', 'rld']"
      ]
     },
     "execution_count": 36,
     "metadata": {},
     "output_type": "execute_result"
    }
   ],
   "source": [
    "s.split('o')"
   ]
  },
  {
   "cell_type": "code",
   "execution_count": 37,
   "id": "eb04802f",
   "metadata": {},
   "outputs": [
    {
     "data": {
      "text/plain": [
       "('Hell', 'o', ' World')"
      ]
     },
     "execution_count": 37,
     "metadata": {},
     "output_type": "execute_result"
    }
   ],
   "source": [
    "s.partition('o')"
   ]
  },
  {
   "cell_type": "code",
   "execution_count": 38,
   "id": "c57ff392",
   "metadata": {},
   "outputs": [
    {
     "data": {
      "text/plain": [
       "2"
      ]
     },
     "execution_count": 38,
     "metadata": {},
     "output_type": "execute_result"
    }
   ],
   "source": [
    "s.count('o')"
   ]
  },
  {
   "cell_type": "code",
   "execution_count": 39,
   "id": "125b7bf5",
   "metadata": {},
   "outputs": [
    {
     "data": {
      "text/plain": [
       "4"
      ]
     },
     "execution_count": 39,
     "metadata": {},
     "output_type": "execute_result"
    }
   ],
   "source": [
    "s.find('o')"
   ]
  },
  {
   "cell_type": "code",
   "execution_count": 40,
   "id": "99d8c3cb",
   "metadata": {},
   "outputs": [
    {
     "data": {
      "text/plain": [
       "'xxxxHello Worldxxxxx'"
      ]
     },
     "execution_count": 40,
     "metadata": {},
     "output_type": "execute_result"
    }
   ],
   "source": [
    "s.center(20, 'x') # 20 indicates the length of the string"
   ]
  },
  {
   "cell_type": "code",
   "execution_count": 41,
   "id": "e512c2ad",
   "metadata": {},
   "outputs": [
    {
     "data": {
      "text/plain": [
       "False"
      ]
     },
     "execution_count": 41,
     "metadata": {},
     "output_type": "execute_result"
    }
   ],
   "source": [
    "# isalnum() will return True if all characters in 's' are alphanumeric\n",
    "s.isalnum() "
   ]
  },
  {
   "cell_type": "code",
   "execution_count": 42,
   "id": "287ad21c",
   "metadata": {},
   "outputs": [
    {
     "data": {
      "text/plain": [
       "False"
      ]
     },
     "execution_count": 42,
     "metadata": {},
     "output_type": "execute_result"
    }
   ],
   "source": [
    "# isalpha() will return True if all characters in s are alphabetic\n",
    "s.isalpha()"
   ]
  },
  {
   "cell_type": "code",
   "execution_count": 43,
   "id": "29793317",
   "metadata": {},
   "outputs": [
    {
     "data": {
      "text/plain": [
       "False"
      ]
     },
     "execution_count": 43,
     "metadata": {},
     "output_type": "execute_result"
    }
   ],
   "source": [
    "# islower() will return True if all cased characters in s are lowercase\n",
    "s.islower()"
   ]
  },
  {
   "cell_type": "code",
   "execution_count": 44,
   "id": "b58f8762",
   "metadata": {},
   "outputs": [
    {
     "data": {
      "text/plain": [
       "False"
      ]
     },
     "execution_count": 44,
     "metadata": {},
     "output_type": "execute_result"
    }
   ],
   "source": [
    "# isupper() will return True if all cased characters in s are uppercase\n",
    "s.isupper()"
   ]
  },
  {
   "cell_type": "code",
   "execution_count": 45,
   "id": "6b67ce8d",
   "metadata": {},
   "outputs": [
    {
     "data": {
      "text/plain": [
       "False"
      ]
     },
     "execution_count": 45,
     "metadata": {},
     "output_type": "execute_result"
    }
   ],
   "source": [
    "# isspace() will return True if all characters in s are whitespace\n",
    "s.isspace()"
   ]
  },
  {
   "cell_type": "code",
   "execution_count": 46,
   "id": "74ed7f78",
   "metadata": {},
   "outputs": [
    {
     "data": {
      "text/plain": [
       "True"
      ]
     },
     "execution_count": 46,
     "metadata": {},
     "output_type": "execute_result"
    }
   ],
   "source": [
    "# istitle() will return True if s is a title cased string\n",
    "s.istitle()"
   ]
  },
  {
   "cell_type": "code",
   "execution_count": 47,
   "id": "09b88838",
   "metadata": {},
   "outputs": [
    {
     "data": {
      "text/plain": [
       "True"
      ]
     },
     "execution_count": 47,
     "metadata": {},
     "output_type": "execute_result"
    }
   ],
   "source": [
    "# endswith() is the same as s[-1]\n",
    "s.endswith('d')"
   ]
  },
  {
   "cell_type": "code",
   "execution_count": 48,
   "id": "131846a3",
   "metadata": {},
   "outputs": [
    {
     "data": {
      "text/plain": [
       "'Hello   World'"
      ]
     },
     "execution_count": 48,
     "metadata": {},
     "output_type": "execute_result"
    }
   ],
   "source": [
    "'Hello\\tWorld'.expandtabs() # Using \\t the function will distance the two words"
   ]
  },
  {
   "cell_type": "markdown",
   "id": "145fd236",
   "metadata": {},
   "source": [
    "### Formatting With Placeholders\n",
    "- %s to injects strings into the print statements. We can pass multiple items by placing them inside a tuple after the % operator. \n",
    "- %r will deliver the string representation of the object including quotation marks and any escape characters. \n",
    "- /t will insert a tab into the string.\n",
    "- %d operator converts numbers to integers"
   ]
  },
  {
   "cell_type": "code",
   "execution_count": 49,
   "id": "2fded971",
   "metadata": {},
   "outputs": [
    {
     "name": "stdout",
     "output_type": "stream",
     "text": [
      "I'm going to inject something here.\n"
     ]
    }
   ],
   "source": [
    "print(\"I'm going to inject %s here.\" %'something')"
   ]
  },
  {
   "cell_type": "code",
   "execution_count": 50,
   "id": "1becfb22",
   "metadata": {},
   "outputs": [
    {
     "name": "stdout",
     "output_type": "stream",
     "text": [
      "I'm going to inject some text here, and more text here.\n"
     ]
    }
   ],
   "source": [
    "print(\"I'm going to inject %s text here, and %s text here.\" %('some','more'))"
   ]
  },
  {
   "cell_type": "code",
   "execution_count": 51,
   "id": "18edfc44",
   "metadata": {},
   "outputs": [
    {
     "name": "stdout",
     "output_type": "stream",
     "text": [
      "I'm going to inject some text here, and more text here.\n"
     ]
    }
   ],
   "source": [
    "x, y = 'some', 'more'\n",
    "print(\"I'm going to inject %s text here, and %s text here.\" %(x,y))"
   ]
  },
  {
   "cell_type": "code",
   "execution_count": 52,
   "id": "ec7698cc",
   "metadata": {},
   "outputs": [
    {
     "name": "stdout",
     "output_type": "stream",
     "text": [
      "I'm going to inject 'something' here.\n"
     ]
    }
   ],
   "source": [
    "print(\"I'm going to inject %r here.\" %'something')"
   ]
  },
  {
   "cell_type": "code",
   "execution_count": 53,
   "id": "20b9eb49",
   "metadata": {},
   "outputs": [
    {
     "name": "stdout",
     "output_type": "stream",
     "text": [
      "I'm going to inject something \tbig here.\n",
      "I'm going to inject 'something \\tbig' here.\n"
     ]
    }
   ],
   "source": [
    "print(\"I'm going to inject %s here.\" %'something \\tbig')\n",
    "print(\"I'm going to inject %r here.\" %'something \\tbig')"
   ]
  },
  {
   "cell_type": "code",
   "execution_count": 54,
   "id": "7c7369c1",
   "metadata": {},
   "outputs": [
    {
     "name": "stdout",
     "output_type": "stream",
     "text": [
      "I wrote 3.75 programs today.\n",
      "I wrote 3.75 programs today.\n",
      "I wrote 3 programs today.\n"
     ]
    }
   ],
   "source": [
    "print('I wrote %s programs today.' %3.75)\n",
    "print('I wrote %r programs today.' %3.75)\n",
    "print('I wrote %d programs today.' %3.75) "
   ]
  },
  {
   "cell_type": "markdown",
   "id": "1e30702e",
   "metadata": {},
   "source": [
    "### Formatting With .format() Method\n",
    "Using the .format() method we can add formatted objects to printed string statements."
   ]
  },
  {
   "cell_type": "code",
   "execution_count": 55,
   "id": "c7442292",
   "metadata": {},
   "outputs": [
    {
     "name": "stdout",
     "output_type": "stream",
     "text": [
      "This is an inserted string\n",
      "This is an inserted string\n"
     ]
    }
   ],
   "source": [
    "print('This is an inserted {}'.format('string'))\n",
    " \n",
    "# It can also be written as\n",
    "s = 'string'\n",
    "print(f'This is an inserted {s}')"
   ]
  },
  {
   "cell_type": "code",
   "execution_count": 56,
   "id": "5af109db",
   "metadata": {},
   "outputs": [
    {
     "data": {
      "text/plain": [
       "'The quick brown fox'"
      ]
     },
     "execution_count": 56,
     "metadata": {},
     "output_type": "execute_result"
    }
   ],
   "source": [
    "'The {2} {1} {0}'.format('fox','brown','quick')"
   ]
  },
  {
   "cell_type": "code",
   "execution_count": 57,
   "id": "88cd80c0",
   "metadata": {},
   "outputs": [
    {
     "data": {
      "text/plain": [
       "'First Object: 1, Second Object: Two, Third Object: 12.3'"
      ]
     },
     "execution_count": 57,
     "metadata": {},
     "output_type": "execute_result"
    }
   ],
   "source": [
    "'First Object: {a}, Second Object: {b}, Third Object: {c}'.format(a = 1, b = 'Two', c = 12.3)"
   ]
  },
  {
   "cell_type": "code",
   "execution_count": 58,
   "id": "dab6495d",
   "metadata": {},
   "outputs": [
    {
     "name": "stdout",
     "output_type": "stream",
     "text": [
      "A penny saved is a penny earned.\n",
      "A penny saved is a penny earned.\n"
     ]
    }
   ],
   "source": [
    "print('A %s saved is a %s earned.' %('penny', 'penny'))\n",
    "print('A {p} saved is a {p} earned.'.format(p = 'penny'))"
   ]
  },
  {
   "cell_type": "markdown",
   "id": "359b7e94",
   "metadata": {},
   "source": [
    "### Float Formatting\n",
    "This method follows the format - {value:width.precision.f}"
   ]
  },
  {
   "cell_type": "code",
   "execution_count": 59,
   "id": "a96a4a32",
   "metadata": {},
   "outputs": [
    {
     "name": "stdout",
     "output_type": "stream",
     "text": [
      "0.1287001287001287\n"
     ]
    }
   ],
   "source": [
    "result = 100/777\n",
    "print(result)"
   ]
  },
  {
   "cell_type": "code",
   "execution_count": 60,
   "id": "0cfb3522",
   "metadata": {},
   "outputs": [
    {
     "data": {
      "text/plain": [
       "'The result is 0.13'"
      ]
     },
     "execution_count": 60,
     "metadata": {},
     "output_type": "execute_result"
    }
   ],
   "source": [
    "'The result is {r:1.2f}'.format(r = result)"
   ]
  },
  {
   "cell_type": "code",
   "execution_count": 61,
   "id": "08c9ee52",
   "metadata": {},
   "outputs": [
    {
     "data": {
      "text/plain": [
       "'The result is     0.1287'"
      ]
     },
     "execution_count": 61,
     "metadata": {},
     "output_type": "execute_result"
    }
   ],
   "source": [
    "'The result is {r:10.4f}'.format(r = result)"
   ]
  },
  {
   "cell_type": "code",
   "execution_count": 62,
   "id": "efb1c3b0",
   "metadata": {},
   "outputs": [
    {
     "name": "stdout",
     "output_type": "stream",
     "text": [
      "This is my ten-character, two-decimal number: 13.58\n",
      "This is my ten-character, two-decimal number: 13.58\n"
     ]
    }
   ],
   "source": [
    "print('This is my ten-character, two-decimal number: %1.2f' %13.579)\n",
    "print('This is my ten-character, two-decimal number: {0:1.2f}'.format(13.579))"
   ]
  },
  {
   "cell_type": "markdown",
   "id": "e1b3dd3a",
   "metadata": {},
   "source": [
    "### Alignment, Padding & Precision With .format()\n"
   ]
  },
  {
   "cell_type": "code",
   "execution_count": 63,
   "id": "791ef919",
   "metadata": {},
   "outputs": [
    {
     "name": "stdout",
     "output_type": "stream",
     "text": [
      "Left     |  Center  |    Right\n",
      "11       |    22    |       33\n"
     ]
    }
   ],
   "source": [
    "print('{0:<8} | {1:^8} | {2:>8}'.format('Left','Center','Right'))\n",
    "print('{0:<8} | {1:^8} | {2:>8}'.format(11,22,33))"
   ]
  },
  {
   "cell_type": "code",
   "execution_count": 64,
   "id": "60c2e931",
   "metadata": {},
   "outputs": [
    {
     "name": "stdout",
     "output_type": "stream",
     "text": [
      "Fruit    | Quantity \n",
      "Apples   |       3.0\n",
      "Oranges  |        10\n"
     ]
    }
   ],
   "source": [
    "print('{0:8} | {1:9}'.format('Fruit', 'Quantity'))\n",
    "print('{0:8} | {1:9}'.format('Apples', 3.))\n",
    "print('{0:8} | {1:9}'.format('Oranges', 10))"
   ]
  },
  {
   "cell_type": "markdown",
   "id": "cd6ba4e6",
   "metadata": {},
   "source": [
    "### list Function"
   ]
  },
  {
   "cell_type": "code",
   "execution_count": 65,
   "id": "276c711a",
   "metadata": {},
   "outputs": [],
   "source": [
    "mylist = ['one', 'two', 'three']"
   ]
  },
  {
   "cell_type": "code",
   "execution_count": 66,
   "id": "f7eb0b0e",
   "metadata": {},
   "outputs": [
    {
     "data": {
      "text/plain": [
       "'one'"
      ]
     },
     "execution_count": 66,
     "metadata": {},
     "output_type": "execute_result"
    }
   ],
   "source": [
    "mylist[0]"
   ]
  },
  {
   "cell_type": "code",
   "execution_count": 67,
   "id": "d66d131d",
   "metadata": {},
   "outputs": [
    {
     "data": {
      "text/plain": [
       "['two', 'three']"
      ]
     },
     "execution_count": 67,
     "metadata": {},
     "output_type": "execute_result"
    }
   ],
   "source": [
    "mylist[1:]"
   ]
  },
  {
   "cell_type": "code",
   "execution_count": 68,
   "id": "587b350b",
   "metadata": {},
   "outputs": [],
   "source": [
    "theirlist = ['four', 'five']"
   ]
  },
  {
   "cell_type": "code",
   "execution_count": 69,
   "id": "86f018b3",
   "metadata": {},
   "outputs": [
    {
     "name": "stdout",
     "output_type": "stream",
     "text": [
      "['one', 'two', 'three', 'four', 'five']\n"
     ]
    }
   ],
   "source": [
    "newlist = mylist + theirlist\n",
    "print(newlist)"
   ]
  },
  {
   "cell_type": "code",
   "execution_count": 70,
   "id": "7ec9c5bc",
   "metadata": {},
   "outputs": [
    {
     "name": "stdout",
     "output_type": "stream",
     "text": [
      "['ONE', 'two', 'three', 'four', 'five']\n"
     ]
    }
   ],
   "source": [
    "newlist[0] = 'ONE'\n",
    "print(newlist)"
   ]
  },
  {
   "cell_type": "code",
   "execution_count": 71,
   "id": "65164fc8",
   "metadata": {},
   "outputs": [
    {
     "name": "stdout",
     "output_type": "stream",
     "text": [
      "['ONE', 'two', 'three', 'four', 'five', 'six']\n"
     ]
    }
   ],
   "source": [
    "newlist.append('six')\n",
    "print(newlist)"
   ]
  },
  {
   "cell_type": "code",
   "execution_count": 72,
   "id": "874c7281",
   "metadata": {},
   "outputs": [
    {
     "data": {
      "text/plain": [
       "'six'"
      ]
     },
     "execution_count": 72,
     "metadata": {},
     "output_type": "execute_result"
    }
   ],
   "source": [
    "newlist.pop() # You can add a position in the () to pop that element out, if not it will pop out the latest element"
   ]
  },
  {
   "cell_type": "code",
   "execution_count": 73,
   "id": "c48ea0ed",
   "metadata": {},
   "outputs": [
    {
     "data": {
      "text/plain": [
       "['ONE', 'two', 'three', 'four', 'five']"
      ]
     },
     "execution_count": 73,
     "metadata": {},
     "output_type": "execute_result"
    }
   ],
   "source": [
    "newlist"
   ]
  },
  {
   "cell_type": "code",
   "execution_count": 74,
   "id": "ae20322e",
   "metadata": {},
   "outputs": [],
   "source": [
    "anotherlist = [4, 2, 9, 1]"
   ]
  },
  {
   "cell_type": "code",
   "execution_count": 75,
   "id": "6da12b6b",
   "metadata": {},
   "outputs": [
    {
     "name": "stdout",
     "output_type": "stream",
     "text": [
      "[1, 2, 4, 9]\n"
     ]
    }
   ],
   "source": [
    "anotherlist.sort()\n",
    "print(anotherlist)"
   ]
  },
  {
   "cell_type": "code",
   "execution_count": 76,
   "id": "8c48d231",
   "metadata": {},
   "outputs": [
    {
     "name": "stdout",
     "output_type": "stream",
     "text": [
      "[9, 4, 2, 1]\n"
     ]
    }
   ],
   "source": [
    "anotherlist.reverse()\n",
    "print(anotherlist)"
   ]
  },
  {
   "cell_type": "code",
   "execution_count": 77,
   "id": "3cbe2115",
   "metadata": {},
   "outputs": [
    {
     "data": {
      "text/plain": [
       "1"
      ]
     },
     "execution_count": 77,
     "metadata": {},
     "output_type": "execute_result"
    }
   ],
   "source": [
    "anotherlist.count(4)"
   ]
  },
  {
   "cell_type": "code",
   "execution_count": 78,
   "id": "79ffb690",
   "metadata": {},
   "outputs": [
    {
     "name": "stdout",
     "output_type": "stream",
     "text": [
      "[1, 2, 3, [4, 5]]\n"
     ]
    }
   ],
   "source": [
    "x = [1, 2, 3]\n",
    "x.append([4, 5])\n",
    "print(x)"
   ]
  },
  {
   "cell_type": "code",
   "execution_count": 79,
   "id": "d2bae0e4",
   "metadata": {},
   "outputs": [
    {
     "name": "stdout",
     "output_type": "stream",
     "text": [
      "[1, 2, 3, 4, 5]\n"
     ]
    }
   ],
   "source": [
    "x = [1, 2, 3]\n",
    "x.extend([4, 5])\n",
    "print(x)"
   ]
  },
  {
   "cell_type": "code",
   "execution_count": 80,
   "id": "99d13f4d",
   "metadata": {},
   "outputs": [
    {
     "data": {
      "text/plain": [
       "2"
      ]
     },
     "execution_count": 80,
     "metadata": {},
     "output_type": "execute_result"
    }
   ],
   "source": [
    "x.index(3)"
   ]
  },
  {
   "cell_type": "code",
   "execution_count": 81,
   "id": "cfa93050",
   "metadata": {},
   "outputs": [
    {
     "ename": "ValueError",
     "evalue": "10 is not in list",
     "output_type": "error",
     "traceback": [
      "\u001b[1;31m---------------------------------------------------------------------------\u001b[0m",
      "\u001b[1;31mValueError\u001b[0m                                Traceback (most recent call last)",
      "Cell \u001b[1;32mIn[81], line 1\u001b[0m\n\u001b[1;32m----> 1\u001b[0m x\u001b[38;5;241m.\u001b[39mindex(\u001b[38;5;241m10\u001b[39m)\n",
      "\u001b[1;31mValueError\u001b[0m: 10 is not in list"
     ]
    }
   ],
   "source": [
    "x.index(10)"
   ]
  },
  {
   "cell_type": "code",
   "execution_count": 82,
   "id": "d2395eb1",
   "metadata": {},
   "outputs": [
    {
     "name": "stdout",
     "output_type": "stream",
     "text": [
      "[1, 2, 3, 'inserted', 4, 5]\n"
     ]
    }
   ],
   "source": [
    "x.insert(3, 'inserted')\n",
    "print(x)"
   ]
  },
  {
   "cell_type": "code",
   "execution_count": 83,
   "id": "ee5ae84b",
   "metadata": {},
   "outputs": [
    {
     "name": "stdout",
     "output_type": "stream",
     "text": [
      "[1, 2, 4, 3]\n"
     ]
    }
   ],
   "source": [
    "y = [1, 2, 3, 4, 3]\n",
    "y.remove(3) # It removes the first occurrence of a value\n",
    "print(y)"
   ]
  },
  {
   "cell_type": "code",
   "execution_count": 84,
   "id": "29d6f8c0",
   "metadata": {},
   "outputs": [
    {
     "name": "stdout",
     "output_type": "stream",
     "text": [
      "[1, 2, 3]\n",
      "[1, 2, 3, 4]\n"
     ]
    }
   ],
   "source": [
    "a = [1, 2, 3]\n",
    "b = a.copy()\n",
    "b.append(4)\n",
    "print(a)\n",
    "print(b)"
   ]
  },
  {
   "cell_type": "markdown",
   "id": "729afd47",
   "metadata": {},
   "source": [
    "### Dictionary"
   ]
  },
  {
   "cell_type": "code",
   "execution_count": 85,
   "id": "f49a704b",
   "metadata": {},
   "outputs": [],
   "source": [
    "mydict = {'key1':'value1','key2':'value2','key3':{'insidekey':'value3'}}"
   ]
  },
  {
   "cell_type": "code",
   "execution_count": 86,
   "id": "6935a6a9",
   "metadata": {
    "scrolled": true
   },
   "outputs": [
    {
     "name": "stdout",
     "output_type": "stream",
     "text": [
      "{'key1': 'value1', 'key2': 'value2', 'key3': {'insidekey': 'value3'}}\n"
     ]
    }
   ],
   "source": [
    "print(mydict)"
   ]
  },
  {
   "cell_type": "code",
   "execution_count": 87,
   "id": "adb20b8c",
   "metadata": {},
   "outputs": [
    {
     "data": {
      "text/plain": [
       "'value1'"
      ]
     },
     "execution_count": 87,
     "metadata": {},
     "output_type": "execute_result"
    }
   ],
   "source": [
    "mydict['key1']"
   ]
  },
  {
   "cell_type": "code",
   "execution_count": 88,
   "id": "e63f8b56",
   "metadata": {},
   "outputs": [
    {
     "name": "stdout",
     "output_type": "stream",
     "text": [
      "{'insidekey': 'value3'}\n",
      "value3\n"
     ]
    }
   ],
   "source": [
    "print(mydict['key3'])\n",
    "print(mydict['key3']['insidekey'])"
   ]
  },
  {
   "cell_type": "code",
   "execution_count": 89,
   "id": "fcd06c48",
   "metadata": {},
   "outputs": [],
   "source": [
    "d = {'key':['a','b','c']}"
   ]
  },
  {
   "cell_type": "code",
   "execution_count": 90,
   "id": "4e0c3e33",
   "metadata": {},
   "outputs": [
    {
     "data": {
      "text/plain": [
       "'C'"
      ]
     },
     "execution_count": 90,
     "metadata": {},
     "output_type": "execute_result"
    }
   ],
   "source": [
    "mylist = d['key']\n",
    "letter = mylist[2]\n",
    "letter.upper()"
   ]
  },
  {
   "cell_type": "code",
   "execution_count": 91,
   "id": "4f9c947e",
   "metadata": {},
   "outputs": [
    {
     "data": {
      "text/plain": [
       "'C'"
      ]
     },
     "execution_count": 91,
     "metadata": {},
     "output_type": "execute_result"
    }
   ],
   "source": [
    "d['key'][2].upper()"
   ]
  },
  {
   "cell_type": "code",
   "execution_count": 92,
   "id": "a03d2274",
   "metadata": {},
   "outputs": [
    {
     "name": "stdout",
     "output_type": "stream",
     "text": [
      "{'k1': 100, 'k2': 200}\n"
     ]
    }
   ],
   "source": [
    "d = {'k1': 100, 'k2': 200}\n",
    "print(d)"
   ]
  },
  {
   "cell_type": "code",
   "execution_count": 93,
   "id": "6d5d0b70",
   "metadata": {},
   "outputs": [
    {
     "name": "stdout",
     "output_type": "stream",
     "text": [
      "{'k1': 100, 'k2': 200, 'k3': 300}\n"
     ]
    }
   ],
   "source": [
    "d['k3'] = 300\n",
    "print(d)"
   ]
  },
  {
   "cell_type": "code",
   "execution_count": 94,
   "id": "290e0dd1",
   "metadata": {},
   "outputs": [
    {
     "name": "stdout",
     "output_type": "stream",
     "text": [
      "{'k1': 'New Value', 'k2': 200, 'k3': 300}\n"
     ]
    }
   ],
   "source": [
    "d['k1'] = 'New Value'\n",
    "print(d)"
   ]
  },
  {
   "cell_type": "code",
   "execution_count": 95,
   "id": "0765fc72",
   "metadata": {},
   "outputs": [
    {
     "name": "stdout",
     "output_type": "stream",
     "text": [
      "dict_keys(['k1', 'k2', 'k3'])\n",
      "dict_values(['New Value', 200, 300])\n",
      "dict_items([('k1', 'New Value'), ('k2', 200), ('k3', 300)])\n"
     ]
    }
   ],
   "source": [
    "print(d.keys())\n",
    "print(d.values())\n",
    "print(d.items())"
   ]
  },
  {
   "cell_type": "code",
   "execution_count": 96,
   "id": "2ef781cf",
   "metadata": {},
   "outputs": [
    {
     "data": {
      "text/plain": [
       "{0: 0, 1: 1, 2: 4, 3: 9, 4: 16, 5: 25, 6: 36, 7: 49, 8: 64, 9: 81}"
      ]
     },
     "execution_count": 96,
     "metadata": {},
     "output_type": "execute_result"
    }
   ],
   "source": [
    "{x:x**2 for x in range (10)}"
   ]
  },
  {
   "cell_type": "markdown",
   "id": "0c5a50dc",
   "metadata": {},
   "source": [
    "### Tuples:\n",
    "The construction of a tuples use () with elements separated by commas."
   ]
  },
  {
   "cell_type": "code",
   "execution_count": 97,
   "id": "5cedb46f",
   "metadata": {},
   "outputs": [],
   "source": [
    "t = (1, 2, 3)"
   ]
  },
  {
   "cell_type": "code",
   "execution_count": 98,
   "id": "93829ed0",
   "metadata": {},
   "outputs": [
    {
     "data": {
      "text/plain": [
       "tuple"
      ]
     },
     "execution_count": 98,
     "metadata": {},
     "output_type": "execute_result"
    }
   ],
   "source": [
    "type(t)"
   ]
  },
  {
   "cell_type": "code",
   "execution_count": 99,
   "id": "735421d6",
   "metadata": {},
   "outputs": [
    {
     "data": {
      "text/plain": [
       "3"
      ]
     },
     "execution_count": 99,
     "metadata": {},
     "output_type": "execute_result"
    }
   ],
   "source": [
    "len(t)"
   ]
  },
  {
   "cell_type": "code",
   "execution_count": 100,
   "id": "2e260f5f",
   "metadata": {},
   "outputs": [
    {
     "data": {
      "text/plain": [
       "1"
      ]
     },
     "execution_count": 100,
     "metadata": {},
     "output_type": "execute_result"
    }
   ],
   "source": [
    "t[0]"
   ]
  },
  {
   "cell_type": "code",
   "execution_count": 101,
   "id": "8dbb0d33",
   "metadata": {},
   "outputs": [],
   "source": [
    "t = ('a', 'b', 'a')"
   ]
  },
  {
   "cell_type": "code",
   "execution_count": 102,
   "id": "3e1eece4",
   "metadata": {},
   "outputs": [
    {
     "data": {
      "text/plain": [
       "2"
      ]
     },
     "execution_count": 102,
     "metadata": {},
     "output_type": "execute_result"
    }
   ],
   "source": [
    "t.count('a')"
   ]
  },
  {
   "cell_type": "code",
   "execution_count": 103,
   "id": "6038a374",
   "metadata": {},
   "outputs": [
    {
     "data": {
      "text/plain": [
       "0"
      ]
     },
     "execution_count": 103,
     "metadata": {},
     "output_type": "execute_result"
    }
   ],
   "source": [
    "t.index('a')"
   ]
  },
  {
   "cell_type": "markdown",
   "id": "5462eb61",
   "metadata": {},
   "source": [
    "### Sets"
   ]
  },
  {
   "cell_type": "code",
   "execution_count": 104,
   "id": "44b338a5",
   "metadata": {},
   "outputs": [
    {
     "name": "stdout",
     "output_type": "stream",
     "text": [
      "set()\n"
     ]
    }
   ],
   "source": [
    "s = set()\n",
    "print(s)"
   ]
  },
  {
   "cell_type": "code",
   "execution_count": 105,
   "id": "5e64670d",
   "metadata": {},
   "outputs": [
    {
     "name": "stdout",
     "output_type": "stream",
     "text": [
      "{1}\n"
     ]
    }
   ],
   "source": [
    "s.add(1)\n",
    "print(s)"
   ]
  },
  {
   "cell_type": "code",
   "execution_count": 106,
   "id": "fbb80149",
   "metadata": {},
   "outputs": [
    {
     "name": "stdout",
     "output_type": "stream",
     "text": [
      "{1, 2}\n"
     ]
    }
   ],
   "source": [
    "s.add(2)\n",
    "print(s)"
   ]
  },
  {
   "cell_type": "code",
   "execution_count": 107,
   "id": "aee29675",
   "metadata": {},
   "outputs": [],
   "source": [
    "s.clear()"
   ]
  },
  {
   "cell_type": "code",
   "execution_count": 108,
   "id": "4d094ef4",
   "metadata": {},
   "outputs": [
    {
     "name": "stdout",
     "output_type": "stream",
     "text": [
      "{1, 2, 3}\n"
     ]
    }
   ],
   "source": [
    "s = {1, 2, 3}\n",
    "a = s.copy()\n",
    "print(a)"
   ]
  },
  {
   "cell_type": "code",
   "execution_count": 109,
   "id": "d8b01b8c",
   "metadata": {},
   "outputs": [
    {
     "name": "stdout",
     "output_type": "stream",
     "text": [
      "{1, 2, 3, 4}\n"
     ]
    }
   ],
   "source": [
    "s.add(4)\n",
    "print(s)"
   ]
  },
  {
   "cell_type": "code",
   "execution_count": 110,
   "id": "636b34b2",
   "metadata": {},
   "outputs": [
    {
     "data": {
      "text/plain": [
       "{4}"
      ]
     },
     "execution_count": 110,
     "metadata": {},
     "output_type": "execute_result"
    }
   ],
   "source": [
    "s.difference(a) # It shows the difference between 'a' and 's'"
   ]
  },
  {
   "cell_type": "code",
   "execution_count": 111,
   "id": "8184d6e5",
   "metadata": {},
   "outputs": [
    {
     "name": "stdout",
     "output_type": "stream",
     "text": [
      "{1, 3, 4}\n"
     ]
    }
   ],
   "source": [
    "s.discard(2)\n",
    "print(s)"
   ]
  },
  {
   "cell_type": "code",
   "execution_count": 112,
   "id": "cb95e9bc",
   "metadata": {},
   "outputs": [
    {
     "name": "stdout",
     "output_type": "stream",
     "text": [
      "{1, 2}\n"
     ]
    }
   ],
   "source": [
    "s1 = {1, 2, 3}\n",
    "s2 = {3, 4, 5}\n",
    "s1.difference_update(s2) # It returns set1 after removing similar elements found in set2\n",
    "print(s1)"
   ]
  },
  {
   "cell_type": "code",
   "execution_count": 113,
   "id": "732f72bb",
   "metadata": {},
   "outputs": [
    {
     "data": {
      "text/plain": [
       "{1, 2}"
      ]
     },
     "execution_count": 113,
     "metadata": {},
     "output_type": "execute_result"
    }
   ],
   "source": [
    "s1 = {1, 2, 3}\n",
    "s2 = {1, 2, 5}\n",
    "s1.intersection(s2)"
   ]
  },
  {
   "cell_type": "code",
   "execution_count": 114,
   "id": "ace5248f",
   "metadata": {},
   "outputs": [],
   "source": [
    "s1.intersection_update(s2) # It returns set1 after removing non-similar elements found in set2"
   ]
  },
  {
   "cell_type": "code",
   "execution_count": 115,
   "id": "776cfc88",
   "metadata": {},
   "outputs": [
    {
     "data": {
      "text/plain": [
       "{1, 2, 3, 4}"
      ]
     },
     "execution_count": 115,
     "metadata": {},
     "output_type": "execute_result"
    }
   ],
   "source": [
    "mylist = [1, 2, 2, 3, 3, 3, 4, 4, 4, 4]\n",
    "set(mylist)"
   ]
  },
  {
   "cell_type": "code",
   "execution_count": 116,
   "id": "9a2e95ea",
   "metadata": {},
   "outputs": [],
   "source": [
    "s1 = {1,2}\n",
    "s2 = {1,2,4}\n",
    "s3 = {5}"
   ]
  },
  {
   "cell_type": "code",
   "execution_count": 117,
   "id": "bebdcdff",
   "metadata": {},
   "outputs": [
    {
     "name": "stdout",
     "output_type": "stream",
     "text": [
      "False\n",
      "True\n"
     ]
    }
   ],
   "source": [
    "# isdisjoin will return True if two sets have a null intersection\n",
    "print(s1.isdisjoint(s2))\n",
    "print(s1.isdisjoint(s3))"
   ]
  },
  {
   "cell_type": "code",
   "execution_count": 118,
   "id": "44eeadf7",
   "metadata": {},
   "outputs": [
    {
     "data": {
      "text/plain": [
       "True"
      ]
     },
     "execution_count": 118,
     "metadata": {},
     "output_type": "execute_result"
    }
   ],
   "source": [
    "# issubset reports whether another set contains this set\n",
    "s1.issubset(s2)"
   ]
  },
  {
   "cell_type": "code",
   "execution_count": 119,
   "id": "2e9f1b41",
   "metadata": {},
   "outputs": [
    {
     "name": "stdout",
     "output_type": "stream",
     "text": [
      "True\n",
      "False\n"
     ]
    }
   ],
   "source": [
    "# issuperset will report whether this set contains another set\n",
    "print(s2.issuperset(s1))\n",
    "print(s1.issuperset(s2))"
   ]
  },
  {
   "cell_type": "code",
   "execution_count": 120,
   "id": "9d41e602",
   "metadata": {},
   "outputs": [
    {
     "data": {
      "text/plain": [
       "{4}"
      ]
     },
     "execution_count": 120,
     "metadata": {},
     "output_type": "execute_result"
    }
   ],
   "source": [
    "# symmetric_difference returns the symmetric difference of two sets as a new set\n",
    "s1.symmetric_difference(s2)"
   ]
  },
  {
   "cell_type": "code",
   "execution_count": 121,
   "id": "f810c428",
   "metadata": {},
   "outputs": [
    {
     "data": {
      "text/plain": [
       "{1, 2, 5}"
      ]
     },
     "execution_count": 121,
     "metadata": {},
     "output_type": "execute_result"
    }
   ],
   "source": [
    "# union returns the union of two sets \n",
    "s1.union(s3)"
   ]
  },
  {
   "cell_type": "code",
   "execution_count": 122,
   "id": "64bd7c89",
   "metadata": {},
   "outputs": [
    {
     "name": "stdout",
     "output_type": "stream",
     "text": [
      "{1, 2, 5}\n"
     ]
    }
   ],
   "source": [
    "# update updates a set with the union of itself and others.\n",
    "s1.update(s3)\n",
    "print(s1)"
   ]
  },
  {
   "cell_type": "markdown",
   "id": "b3101d4d",
   "metadata": {},
   "source": [
    "### Booleans"
   ]
  },
  {
   "cell_type": "code",
   "execution_count": 123,
   "id": "b5586193",
   "metadata": {},
   "outputs": [
    {
     "data": {
      "text/plain": [
       "bool"
      ]
     },
     "execution_count": 123,
     "metadata": {},
     "output_type": "execute_result"
    }
   ],
   "source": [
    "type(True)"
   ]
  },
  {
   "cell_type": "code",
   "execution_count": 124,
   "id": "62bdae32",
   "metadata": {},
   "outputs": [
    {
     "data": {
      "text/plain": [
       "bool"
      ]
     },
     "execution_count": 124,
     "metadata": {},
     "output_type": "execute_result"
    }
   ],
   "source": [
    "type(False)"
   ]
  },
  {
   "cell_type": "code",
   "execution_count": 125,
   "id": "21ee16b4",
   "metadata": {},
   "outputs": [
    {
     "name": "stdout",
     "output_type": "stream",
     "text": [
      "False\n",
      "True\n"
     ]
    }
   ],
   "source": [
    "print(1 > 2)\n",
    "print(1 < 2)"
   ]
  },
  {
   "cell_type": "code",
   "execution_count": 126,
   "id": "2699577a",
   "metadata": {},
   "outputs": [
    {
     "name": "stdout",
     "output_type": "stream",
     "text": [
      "None\n"
     ]
    }
   ],
   "source": [
    "b = None\n",
    "print(b)"
   ]
  },
  {
   "cell_type": "markdown",
   "id": "838a6d8c",
   "metadata": {},
   "source": [
    "### Spacing"
   ]
  },
  {
   "cell_type": "code",
   "execution_count": 127,
   "id": "85c1e3df",
   "metadata": {},
   "outputs": [
    {
     "data": {
      "text/plain": [
       "'a-b-c'"
      ]
     },
     "execution_count": 127,
     "metadata": {},
     "output_type": "execute_result"
    }
   ],
   "source": [
    "mylist = ['a', 'b', 'c']\n",
    "'-'.join(mylist) # Whatever you put in the single quotes will be the spacing between the words "
   ]
  },
  {
   "cell_type": "markdown",
   "id": "3563f030",
   "metadata": {},
   "source": [
    "### iPython Writing a File"
   ]
  },
  {
   "cell_type": "code",
   "execution_count": 128,
   "id": "aca79fde",
   "metadata": {},
   "outputs": [
    {
     "name": "stdout",
     "output_type": "stream",
     "text": [
      "Overwriting myfile.txt\n"
     ]
    }
   ],
   "source": [
    "%%writefile myfile.txt\n",
    "Hello this is a text file\n",
    "this is the second line\n",
    "this is the third line"
   ]
  },
  {
   "cell_type": "code",
   "execution_count": 129,
   "id": "8fdd9872",
   "metadata": {},
   "outputs": [
    {
     "data": {
      "text/plain": [
       "'C:\\\\Users\\\\krish\\\\OneDrive\\\\Desktop\\\\Python'"
      ]
     },
     "execution_count": 129,
     "metadata": {},
     "output_type": "execute_result"
    }
   ],
   "source": [
    "pwd"
   ]
  },
  {
   "cell_type": "code",
   "execution_count": 130,
   "id": "24d9fe70",
   "metadata": {},
   "outputs": [],
   "source": [
    "myfile = open('myfile.txt')"
   ]
  },
  {
   "cell_type": "code",
   "execution_count": 131,
   "id": "73864ca2",
   "metadata": {},
   "outputs": [
    {
     "data": {
      "text/plain": [
       "'Hello this is a text file\\nthis is the second line\\nthis is the third line\\n'"
      ]
     },
     "execution_count": 131,
     "metadata": {},
     "output_type": "execute_result"
    }
   ],
   "source": [
    "myfile.read()"
   ]
  },
  {
   "cell_type": "code",
   "execution_count": 132,
   "id": "05772eb1",
   "metadata": {},
   "outputs": [
    {
     "data": {
      "text/plain": [
       "''"
      ]
     },
     "execution_count": 132,
     "metadata": {},
     "output_type": "execute_result"
    }
   ],
   "source": [
    "# You will get a blank string because the file has already been read one. To solve this issue you need to go back to zero.\n",
    "myfile.read()"
   ]
  },
  {
   "cell_type": "code",
   "execution_count": 133,
   "id": "fa3ee085",
   "metadata": {},
   "outputs": [
    {
     "data": {
      "text/plain": [
       "'Hello this is a text file\\nthis is the second line\\nthis is the third line\\n'"
      ]
     },
     "execution_count": 133,
     "metadata": {},
     "output_type": "execute_result"
    }
   ],
   "source": [
    "myfile.seek(0)\n",
    "myfile.read()"
   ]
  },
  {
   "cell_type": "code",
   "execution_count": 134,
   "id": "d94ee9af",
   "metadata": {},
   "outputs": [
    {
     "data": {
      "text/plain": [
       "['Hello this is a text file\\n',\n",
       " 'this is the second line\\n',\n",
       " 'this is the third line\\n']"
      ]
     },
     "execution_count": 134,
     "metadata": {},
     "output_type": "execute_result"
    }
   ],
   "source": [
    "myfile.seek(0)\n",
    "myfile.readlines()"
   ]
  },
  {
   "cell_type": "code",
   "execution_count": 135,
   "id": "0b07495e",
   "metadata": {},
   "outputs": [],
   "source": [
    "myfile.close()"
   ]
  },
  {
   "cell_type": "code",
   "execution_count": 136,
   "id": "6070bff6",
   "metadata": {},
   "outputs": [
    {
     "name": "stdout",
     "output_type": "stream",
     "text": [
      "Hello this is a text file\n",
      "this is the second line\n",
      "this is the third line\n",
      "\n"
     ]
    }
   ],
   "source": [
    "# To avoid closing the files like this we can use a different method:\n",
    "with open('myfile.txt') as mynewfile:\n",
    "    contents = mynewfile.read()\n",
    "    print(contents)"
   ]
  },
  {
   "cell_type": "markdown",
   "id": "81673f65",
   "metadata": {},
   "source": [
    "### Reading, Writing and Appending:\n",
    "- mode = 'r' is read only\n",
    "- mode = 'w' is write only (will over write files or create new!)\n",
    "- mode = 'a' is append only (will add on to files)\n",
    "- mode = 'r+' is reading and writing\n",
    "- mode = 'w+' is writing and reading (Overwrites existing files or creates a new file!)"
   ]
  },
  {
   "cell_type": "code",
   "execution_count": 137,
   "id": "d39eb42b",
   "metadata": {},
   "outputs": [
    {
     "name": "stdout",
     "output_type": "stream",
     "text": [
      "Overwriting mynewfile.txt\n"
     ]
    }
   ],
   "source": [
    "%%writefile mynewfile.txt\n",
    "ONE ON FIRST\n",
    "TWO ON SECOND\n",
    "THREE ON THIRD"
   ]
  },
  {
   "cell_type": "code",
   "execution_count": 138,
   "id": "96357f7e",
   "metadata": {},
   "outputs": [
    {
     "name": "stdout",
     "output_type": "stream",
     "text": [
      "ONE ON FIRST\n",
      "TWO ON SECOND\n",
      "THREE ON THIRD\n",
      "\n"
     ]
    }
   ],
   "source": [
    "with open('mynewfile.txt', mode = 'r') as f:\n",
    "    print(f.read())"
   ]
  },
  {
   "cell_type": "code",
   "execution_count": 139,
   "id": "c240b7e9",
   "metadata": {},
   "outputs": [
    {
     "name": "stdout",
     "output_type": "stream",
     "text": [
      "ONE ON FIRST\n",
      "TWO ON SECOND\n",
      "THREE ON THIRD\n",
      "\n",
      "FOUR ON FOURTH\n"
     ]
    }
   ],
   "source": [
    "with open('mynewfile.txt', mode = 'a') as f:\n",
    "    f.write('\\nFOUR ON FOURTH')\n",
    "with open('mynewfile.txt', mode = 'r') as f:\n",
    "    print(f.read())"
   ]
  },
  {
   "cell_type": "code",
   "execution_count": 140,
   "id": "3ceb9186",
   "metadata": {},
   "outputs": [
    {
     "name": "stdout",
     "output_type": "stream",
     "text": [
      "I created this new file\n"
     ]
    }
   ],
   "source": [
    "with open('abcdef.txt', mode = 'w') as f:\n",
    "    f.write('I created this new file')\n",
    "with open('abcdef.txt', mode = 'r') as f:\n",
    "    print(f.read())"
   ]
  },
  {
   "cell_type": "markdown",
   "id": "e34f03a4",
   "metadata": {},
   "source": [
    "### Comparison Operators:\n",
    "- a == b means a is equal to b\n",
    "- a != b means a is not equal to b\n",
    "- a > b means a is greater than b\n",
    "- a < b means a is smaller than b\n",
    "- a >= b means a is greater than or equal to b\n",
    "- a <= b means a is smaller than or equal to b"
   ]
  },
  {
   "cell_type": "code",
   "execution_count": 141,
   "id": "8b381600",
   "metadata": {},
   "outputs": [
    {
     "name": "stdout",
     "output_type": "stream",
     "text": [
      "False\n",
      "True\n"
     ]
    }
   ],
   "source": [
    "print(10 >= 20)\n",
    "print(10 <= 20)"
   ]
  },
  {
   "cell_type": "code",
   "execution_count": 142,
   "id": "3c9b5816",
   "metadata": {},
   "outputs": [
    {
     "name": "stdout",
     "output_type": "stream",
     "text": [
      "True\n",
      "False\n"
     ]
    }
   ],
   "source": [
    "print(1 < 2 < 3)\n",
    "print(1 < 2 > 3)"
   ]
  },
  {
   "cell_type": "code",
   "execution_count": 143,
   "id": "8e5df945",
   "metadata": {},
   "outputs": [
    {
     "name": "stdout",
     "output_type": "stream",
     "text": [
      "True\n",
      "False\n"
     ]
    }
   ],
   "source": [
    "print(1 < 2 and 2 < 3)\n",
    "print(1 < 2 and 2 > 3)"
   ]
  },
  {
   "cell_type": "code",
   "execution_count": 144,
   "id": "eab8a22d",
   "metadata": {},
   "outputs": [
    {
     "name": "stdout",
     "output_type": "stream",
     "text": [
      "True\n",
      "True\n"
     ]
    }
   ],
   "source": [
    "print(1 < 2 or 2 < 3)\n",
    "print(1 < 2 or 2 > 3)"
   ]
  },
  {
   "cell_type": "markdown",
   "id": "84498ded",
   "metadata": {},
   "source": [
    "### if, elif, else Statements"
   ]
  },
  {
   "cell_type": "code",
   "execution_count": 145,
   "id": "62718004",
   "metadata": {},
   "outputs": [
    {
     "name": "stdout",
     "output_type": "stream",
     "text": [
      "Feed Me\n"
     ]
    }
   ],
   "source": [
    "hungry = True\n",
    "if hungry:\n",
    "    print('Feed Me')"
   ]
  },
  {
   "cell_type": "code",
   "execution_count": 146,
   "id": "9b30a355",
   "metadata": {},
   "outputs": [],
   "source": [
    "# You won't get any result\n",
    "hungry = False\n",
    "if hungry:\n",
    "    print('Feed Me')"
   ]
  },
  {
   "cell_type": "code",
   "execution_count": 147,
   "id": "2c310b43",
   "metadata": {},
   "outputs": [
    {
     "name": "stdout",
     "output_type": "stream",
     "text": [
      "Don't Feed Me\n"
     ]
    }
   ],
   "source": [
    "# To solve this issue we use else\n",
    "hungry = False\n",
    "if hungry:\n",
    "    print('Feed Me')\n",
    "else:\n",
    "    print(\"Don't Feed Me\")"
   ]
  },
  {
   "cell_type": "code",
   "execution_count": 148,
   "id": "59f065c5",
   "metadata": {},
   "outputs": [
    {
     "name": "stdout",
     "output_type": "stream",
     "text": [
      "Banks are cool\n"
     ]
    }
   ],
   "source": [
    "loc = 'Bank'\n",
    "if loc == 'Car':\n",
    "    print('Cars are cool')\n",
    "elif loc == 'Bank':\n",
    "    print('Banks are cool')\n",
    "else:\n",
    "    print(\"I don't know much\")"
   ]
  },
  {
   "cell_type": "markdown",
   "id": "fd56efec",
   "metadata": {},
   "source": [
    "### for Loops"
   ]
  },
  {
   "cell_type": "code",
   "execution_count": 149,
   "id": "350bf7cb",
   "metadata": {},
   "outputs": [],
   "source": [
    "mylist = [1, 2, 3, 4, 5, 6, 7, 8, 9, 10]"
   ]
  },
  {
   "cell_type": "code",
   "execution_count": 150,
   "id": "6a150e65",
   "metadata": {},
   "outputs": [
    {
     "name": "stdout",
     "output_type": "stream",
     "text": [
      "1\n",
      "2\n",
      "3\n",
      "4\n",
      "5\n",
      "6\n",
      "7\n",
      "8\n",
      "9\n",
      "10\n"
     ]
    }
   ],
   "source": [
    "for num in mylist:\n",
    "    print(num)"
   ]
  },
  {
   "cell_type": "code",
   "execution_count": 151,
   "id": "b1c18585",
   "metadata": {},
   "outputs": [
    {
     "name": "stdout",
     "output_type": "stream",
     "text": [
      "hello\n",
      "hello\n",
      "hello\n",
      "hello\n",
      "hello\n",
      "hello\n",
      "hello\n",
      "hello\n",
      "hello\n",
      "hello\n"
     ]
    }
   ],
   "source": [
    "for num in mylist:\n",
    "    print('hello')"
   ]
  },
  {
   "cell_type": "code",
   "execution_count": 152,
   "id": "3aea0c64",
   "metadata": {},
   "outputs": [
    {
     "name": "stdout",
     "output_type": "stream",
     "text": [
      "Odd Number: 1\n",
      "2\n",
      "Odd Number: 3\n",
      "4\n",
      "Odd Number: 5\n",
      "6\n",
      "Odd Number: 7\n",
      "8\n",
      "Odd Number: 9\n",
      "10\n"
     ]
    }
   ],
   "source": [
    "for num in mylist:\n",
    "    if num % 2 == 0:\n",
    "        print(num)\n",
    "    else:\n",
    "        print(f'Odd Number: {num}')"
   ]
  },
  {
   "cell_type": "code",
   "execution_count": 153,
   "id": "fcb7b389",
   "metadata": {},
   "outputs": [
    {
     "name": "stdout",
     "output_type": "stream",
     "text": [
      "1\n",
      "3\n",
      "6\n",
      "10\n",
      "15\n",
      "21\n",
      "28\n",
      "36\n",
      "45\n",
      "55\n"
     ]
    }
   ],
   "source": [
    "listsum = 0\n",
    "for num in mylist:\n",
    "    listsum = listsum + num\n",
    "    print(listsum)"
   ]
  },
  {
   "cell_type": "code",
   "execution_count": 154,
   "id": "b0caccc4",
   "metadata": {},
   "outputs": [
    {
     "name": "stdout",
     "output_type": "stream",
     "text": [
      "55\n"
     ]
    }
   ],
   "source": [
    "listsum = 0\n",
    "for num in mylist:\n",
    "    listsum = listsum + num\n",
    "\n",
    "print(listsum)"
   ]
  },
  {
   "cell_type": "code",
   "execution_count": 155,
   "id": "056e8268",
   "metadata": {},
   "outputs": [],
   "source": [
    "mylist = [(1,2),(3,4),(5,6),(7,8)]"
   ]
  },
  {
   "cell_type": "code",
   "execution_count": 156,
   "id": "3369c519",
   "metadata": {},
   "outputs": [
    {
     "data": {
      "text/plain": [
       "4"
      ]
     },
     "execution_count": 156,
     "metadata": {},
     "output_type": "execute_result"
    }
   ],
   "source": [
    "len(mylist)"
   ]
  },
  {
   "cell_type": "code",
   "execution_count": 157,
   "id": "626c811f",
   "metadata": {},
   "outputs": [
    {
     "name": "stdout",
     "output_type": "stream",
     "text": [
      "(1, 2)\n",
      "(3, 4)\n",
      "(5, 6)\n",
      "(7, 8)\n"
     ]
    }
   ],
   "source": [
    "for item in mylist:\n",
    "    print(item)"
   ]
  },
  {
   "cell_type": "code",
   "execution_count": 158,
   "id": "bfe0ab68",
   "metadata": {},
   "outputs": [
    {
     "name": "stdout",
     "output_type": "stream",
     "text": [
      "1\n",
      "2\n",
      "3\n",
      "4\n",
      "5\n",
      "6\n",
      "7\n",
      "8\n"
     ]
    }
   ],
   "source": [
    "for (a,b) in mylist:\n",
    "    print(a)\n",
    "    print(b)"
   ]
  },
  {
   "cell_type": "code",
   "execution_count": 159,
   "id": "115b077d",
   "metadata": {},
   "outputs": [],
   "source": [
    "d = {'k1': 1, 'k2': 2, 'k3': 3}"
   ]
  },
  {
   "cell_type": "code",
   "execution_count": 160,
   "id": "7fd1417c",
   "metadata": {},
   "outputs": [
    {
     "name": "stdout",
     "output_type": "stream",
     "text": [
      "k1\n",
      "k2\n",
      "k3\n"
     ]
    }
   ],
   "source": [
    "for item in d:\n",
    "    print(item)"
   ]
  },
  {
   "cell_type": "code",
   "execution_count": 161,
   "id": "8dc33f2b",
   "metadata": {},
   "outputs": [
    {
     "name": "stdout",
     "output_type": "stream",
     "text": [
      "('k1', 1)\n",
      "('k2', 2)\n",
      "('k3', 3)\n"
     ]
    }
   ],
   "source": [
    "for item in d.items():\n",
    "    print(item)"
   ]
  },
  {
   "cell_type": "code",
   "execution_count": 162,
   "id": "bdf6df10",
   "metadata": {},
   "outputs": [
    {
     "name": "stdout",
     "output_type": "stream",
     "text": [
      "1\n",
      "2\n",
      "3\n"
     ]
    }
   ],
   "source": [
    "for key,value in d.items():\n",
    "    print(value)"
   ]
  },
  {
   "cell_type": "markdown",
   "id": "dd886521",
   "metadata": {},
   "source": [
    "### while Loops"
   ]
  },
  {
   "cell_type": "code",
   "execution_count": 163,
   "id": "4e69b04d",
   "metadata": {},
   "outputs": [
    {
     "name": "stdout",
     "output_type": "stream",
     "text": [
      "The current value of x is 0\n",
      "The current value of x is 1\n",
      "The current value of x is 2\n",
      "The current value of x is 3\n",
      "The current value of x is 4\n",
      "The current value of x is not less than 5\n"
     ]
    }
   ],
   "source": [
    "# Restart the Kernel if your code isn't working\n",
    "x = 0\n",
    "while x < 5:\n",
    "    print(f'The current value of x is {x}')\n",
    "    x = x + 1 # this can also be written as x += 1\n",
    "else:\n",
    "    print('The current value of x is not less than 5')"
   ]
  },
  {
   "cell_type": "markdown",
   "id": "362b3a73",
   "metadata": {},
   "source": [
    "### Break, Continue and Pass:\n",
    "- break: Breaks out of the current closest enclosing loop.\n",
    "- continue: Goes to the top of the closest enclosing loop.\n",
    "- pass: Does nothing at all."
   ]
  },
  {
   "cell_type": "code",
   "execution_count": 164,
   "id": "960d332f",
   "metadata": {},
   "outputs": [
    {
     "name": "stdout",
     "output_type": "stream",
     "text": [
      "S\n"
     ]
    }
   ],
   "source": [
    "mystring = 'Sammy'\n",
    "for letter in mystring:\n",
    "    if letter == 'a':\n",
    "        break\n",
    "    print(letter) "
   ]
  },
  {
   "cell_type": "code",
   "execution_count": 165,
   "id": "19cccef9",
   "metadata": {},
   "outputs": [
    {
     "name": "stdout",
     "output_type": "stream",
     "text": [
      "S\n",
      "m\n",
      "m\n",
      "y\n"
     ]
    }
   ],
   "source": [
    "mystring = 'Sammy'\n",
    "for letter in mystring:\n",
    "    if letter == 'a':\n",
    "        continue\n",
    "    print(letter) "
   ]
  },
  {
   "cell_type": "code",
   "execution_count": 166,
   "id": "cf0baaf6",
   "metadata": {},
   "outputs": [
    {
     "ename": "SyntaxError",
     "evalue": "incomplete input (1430008822.py, line 3)",
     "output_type": "error",
     "traceback": [
      "\u001b[1;36m  Cell \u001b[1;32mIn[166], line 3\u001b[1;36m\u001b[0m\n\u001b[1;33m    #comment\u001b[0m\n\u001b[1;37m                ^\u001b[0m\n\u001b[1;31mSyntaxError\u001b[0m\u001b[1;31m:\u001b[0m incomplete input\n"
     ]
    }
   ],
   "source": [
    "x = [1, 5]\n",
    "for item in x:\n",
    "    #comment    "
   ]
  },
  {
   "cell_type": "code",
   "execution_count": 167,
   "id": "05ccbc0c",
   "metadata": {},
   "outputs": [
    {
     "name": "stdout",
     "output_type": "stream",
     "text": [
      "End of the statement\n"
     ]
    }
   ],
   "source": [
    "#To avoid getting this error we use 'pass'\n",
    "x = [1, 5]\n",
    "for item in x:\n",
    "    #comment\n",
    "    pass\n",
    "\n",
    "print('End of the statement')"
   ]
  },
  {
   "cell_type": "markdown",
   "id": "64a2b8df",
   "metadata": {},
   "source": [
    "### range Operator"
   ]
  },
  {
   "cell_type": "code",
   "execution_count": 168,
   "id": "c0424729",
   "metadata": {},
   "outputs": [
    {
     "name": "stdout",
     "output_type": "stream",
     "text": [
      "0\n",
      "1\n",
      "2\n",
      "3\n",
      "4\n",
      "5\n",
      "6\n",
      "7\n",
      "8\n",
      "9\n"
     ]
    }
   ],
   "source": [
    "mylist = [1, 2, 3]\n",
    "for num in range(10):\n",
    "    print(num)"
   ]
  },
  {
   "cell_type": "code",
   "execution_count": 169,
   "id": "727ef993",
   "metadata": {},
   "outputs": [
    {
     "name": "stdout",
     "output_type": "stream",
     "text": [
      "3\n",
      "4\n",
      "5\n",
      "6\n",
      "7\n",
      "8\n",
      "9\n"
     ]
    }
   ],
   "source": [
    "for num in range(3, 10):\n",
    "    print(num)"
   ]
  },
  {
   "cell_type": "code",
   "execution_count": 170,
   "id": "b3593c85",
   "metadata": {},
   "outputs": [
    {
     "name": "stdout",
     "output_type": "stream",
     "text": [
      "0\n",
      "2\n",
      "4\n",
      "6\n",
      "8\n"
     ]
    }
   ],
   "source": [
    "for num in range(0, 10, 2):\n",
    "    print(num)"
   ]
  },
  {
   "cell_type": "code",
   "execution_count": 171,
   "id": "3b59206c",
   "metadata": {},
   "outputs": [
    {
     "data": {
      "text/plain": [
       "[0, 2, 4, 6, 8, 10]"
      ]
     },
     "execution_count": 171,
     "metadata": {},
     "output_type": "execute_result"
    }
   ],
   "source": [
    "list(range(0, 11, 2))"
   ]
  },
  {
   "cell_type": "markdown",
   "id": "c4159a53",
   "metadata": {},
   "source": [
    "### enumerate Operator"
   ]
  },
  {
   "cell_type": "code",
   "execution_count": 172,
   "id": "19239a5f",
   "metadata": {},
   "outputs": [
    {
     "name": "stdout",
     "output_type": "stream",
     "text": [
      "At index 0 the letter is a\n",
      "At index 1 the letter is b\n",
      "At index 2 the letter is c\n",
      "At index 3 the letter is d\n",
      "At index 4 the letter is e\n"
     ]
    }
   ],
   "source": [
    "indexcount = 0\n",
    "for letter in 'abcde':\n",
    "    print('At index {} the letter is {}'.format(indexcount, letter))\n",
    "    indexcount += 1"
   ]
  },
  {
   "cell_type": "code",
   "execution_count": 173,
   "id": "187b405d",
   "metadata": {},
   "outputs": [
    {
     "name": "stdout",
     "output_type": "stream",
     "text": [
      "a\n",
      "b\n",
      "c\n",
      "d\n",
      "e\n"
     ]
    }
   ],
   "source": [
    "# This can also be written as\n",
    "indexcount = 0\n",
    "word = 'abcde'\n",
    "for letter in word:\n",
    "    print(word[indexcount])\n",
    "    indexcount += 1"
   ]
  },
  {
   "cell_type": "code",
   "execution_count": 174,
   "id": "62eaab2b",
   "metadata": {},
   "outputs": [
    {
     "name": "stdout",
     "output_type": "stream",
     "text": [
      "(0, 'a')\n",
      "(1, 'b')\n",
      "(2, 'c')\n",
      "(3, 'd')\n",
      "(4, 'e')\n"
     ]
    }
   ],
   "source": [
    "word = 'abcde'\n",
    "for item in enumerate(word):\n",
    "    print(item)"
   ]
  },
  {
   "cell_type": "code",
   "execution_count": 175,
   "id": "6e3485a0",
   "metadata": {},
   "outputs": [
    {
     "name": "stdout",
     "output_type": "stream",
     "text": [
      "0\n",
      "a\n",
      "\n",
      "\n",
      "1\n",
      "b\n",
      "\n",
      "\n",
      "2\n",
      "c\n",
      "\n",
      "\n",
      "3\n",
      "d\n",
      "\n",
      "\n",
      "4\n",
      "e\n",
      "\n",
      "\n"
     ]
    }
   ],
   "source": [
    "word = 'abcde'\n",
    "for index, letter in enumerate(word):\n",
    "    print(index)\n",
    "    print(letter)\n",
    "    print('\\n')"
   ]
  },
  {
   "cell_type": "code",
   "execution_count": 176,
   "id": "a6986b04",
   "metadata": {},
   "outputs": [
    {
     "data": {
      "text/plain": [
       "[(0, 'a'), (1, 'b'), (2, 'c'), (3, 'd'), (4, 'e')]"
      ]
     },
     "execution_count": 176,
     "metadata": {},
     "output_type": "execute_result"
    }
   ],
   "source": [
    "list(enumerate('abcde'))"
   ]
  },
  {
   "cell_type": "markdown",
   "id": "3784dbee",
   "metadata": {},
   "source": [
    "### zip Operator"
   ]
  },
  {
   "cell_type": "code",
   "execution_count": 177,
   "id": "543b59b6",
   "metadata": {},
   "outputs": [
    {
     "name": "stdout",
     "output_type": "stream",
     "text": [
      "(1, 'a')\n",
      "(2, 'b')\n",
      "(3, 'c')\n"
     ]
    }
   ],
   "source": [
    "list1 = [1, 2, 3]\n",
    "list2 = ['a', 'b', 'c']\n",
    "for item in zip(list1, list2):\n",
    "    print(item)"
   ]
  },
  {
   "cell_type": "code",
   "execution_count": 178,
   "id": "3da6e4e7",
   "metadata": {},
   "outputs": [
    {
     "data": {
      "text/plain": [
       "[(1, 'a'), (2, 'b'), (3, 'c')]"
      ]
     },
     "execution_count": 178,
     "metadata": {},
     "output_type": "execute_result"
    }
   ],
   "source": [
    "list(zip(list1, list2))"
   ]
  },
  {
   "cell_type": "markdown",
   "id": "0f0db32a",
   "metadata": {},
   "source": [
    "### in & not in Operator"
   ]
  },
  {
   "cell_type": "code",
   "execution_count": 179,
   "id": "732523b4",
   "metadata": {},
   "outputs": [
    {
     "data": {
      "text/plain": [
       "False"
      ]
     },
     "execution_count": 179,
     "metadata": {},
     "output_type": "execute_result"
    }
   ],
   "source": [
    "1 in [10, 9, 8]"
   ]
  },
  {
   "cell_type": "code",
   "execution_count": 180,
   "id": "d3e87ac6",
   "metadata": {},
   "outputs": [
    {
     "data": {
      "text/plain": [
       "True"
      ]
     },
     "execution_count": 180,
     "metadata": {},
     "output_type": "execute_result"
    }
   ],
   "source": [
    "1 in [1, 2, 3]"
   ]
  },
  {
   "cell_type": "code",
   "execution_count": 181,
   "id": "9366a253",
   "metadata": {},
   "outputs": [
    {
     "data": {
      "text/plain": [
       "True"
      ]
     },
     "execution_count": 181,
     "metadata": {},
     "output_type": "execute_result"
    }
   ],
   "source": [
    "1 not in [10, 9, 8]"
   ]
  },
  {
   "cell_type": "code",
   "execution_count": 182,
   "id": "a29cc82d",
   "metadata": {},
   "outputs": [
    {
     "data": {
      "text/plain": [
       "False"
      ]
     },
     "execution_count": 182,
     "metadata": {},
     "output_type": "execute_result"
    }
   ],
   "source": [
    "1 not in [3, 2, 1]"
   ]
  },
  {
   "cell_type": "code",
   "execution_count": 183,
   "id": "11123152",
   "metadata": {},
   "outputs": [
    {
     "data": {
      "text/plain": [
       "True"
      ]
     },
     "execution_count": 183,
     "metadata": {},
     "output_type": "execute_result"
    }
   ],
   "source": [
    "'mykey' in {'mykey': 9.8}"
   ]
  },
  {
   "cell_type": "code",
   "execution_count": 184,
   "id": "e0396545",
   "metadata": {},
   "outputs": [
    {
     "data": {
      "text/plain": [
       "False"
      ]
     },
     "execution_count": 184,
     "metadata": {},
     "output_type": "execute_result"
    }
   ],
   "source": [
    "d = {'mykey': 9.8}\n",
    "9.8 in d.keys()"
   ]
  },
  {
   "cell_type": "markdown",
   "id": "26381c54",
   "metadata": {},
   "source": [
    "### min & max Operator"
   ]
  },
  {
   "cell_type": "code",
   "execution_count": 185,
   "id": "0c67381d",
   "metadata": {},
   "outputs": [],
   "source": [
    "mylist = [10, 20, 30, 40, 50]"
   ]
  },
  {
   "cell_type": "code",
   "execution_count": 186,
   "id": "463ec127",
   "metadata": {},
   "outputs": [
    {
     "data": {
      "text/plain": [
       "10"
      ]
     },
     "execution_count": 186,
     "metadata": {},
     "output_type": "execute_result"
    }
   ],
   "source": [
    "min(mylist)"
   ]
  },
  {
   "cell_type": "code",
   "execution_count": 187,
   "id": "dc98d45c",
   "metadata": {},
   "outputs": [
    {
     "data": {
      "text/plain": [
       "50"
      ]
     },
     "execution_count": 187,
     "metadata": {},
     "output_type": "execute_result"
    }
   ],
   "source": [
    "max(mylist)"
   ]
  },
  {
   "cell_type": "markdown",
   "id": "c5c7fdda",
   "metadata": {},
   "source": [
    "### random Library\n",
    "Python comes with a built in random library."
   ]
  },
  {
   "cell_type": "code",
   "execution_count": 188,
   "id": "c103960b",
   "metadata": {},
   "outputs": [
    {
     "name": "stdout",
     "output_type": "stream",
     "text": [
      "[20, 10, 50, 40, 30]\n"
     ]
    }
   ],
   "source": [
    "from random import shuffle\n",
    "shuffle(mylist)\n",
    "print(mylist)"
   ]
  },
  {
   "cell_type": "code",
   "execution_count": 189,
   "id": "e52402cc",
   "metadata": {},
   "outputs": [
    {
     "data": {
      "text/plain": [
       "55"
      ]
     },
     "execution_count": 189,
     "metadata": {},
     "output_type": "execute_result"
    }
   ],
   "source": [
    "# randint outputs a random number between a and b from [a, b]\n",
    "from random import randint\n",
    "randint(0, 100)"
   ]
  },
  {
   "cell_type": "markdown",
   "id": "d48141e4",
   "metadata": {},
   "source": [
    "### input Operator"
   ]
  },
  {
   "cell_type": "code",
   "execution_count": 191,
   "id": "7636a8cd",
   "metadata": {},
   "outputs": [
    {
     "name": "stdout",
     "output_type": "stream",
     "text": [
      "Enter a number here: 3\n"
     ]
    },
    {
     "data": {
      "text/plain": [
       "'3'"
      ]
     },
     "execution_count": 191,
     "metadata": {},
     "output_type": "execute_result"
    }
   ],
   "source": [
    "input('Enter a number here: ')"
   ]
  },
  {
   "cell_type": "code",
   "execution_count": 192,
   "id": "4193a684",
   "metadata": {},
   "outputs": [
    {
     "name": "stdout",
     "output_type": "stream",
     "text": [
      "Enter a number here: 27\n"
     ]
    }
   ],
   "source": [
    "result = input('Enter a number here: ')"
   ]
  },
  {
   "cell_type": "code",
   "execution_count": 193,
   "id": "1333abce",
   "metadata": {},
   "outputs": [
    {
     "data": {
      "text/plain": [
       "str"
      ]
     },
     "execution_count": 193,
     "metadata": {},
     "output_type": "execute_result"
    }
   ],
   "source": [
    "type(result)"
   ]
  },
  {
   "cell_type": "code",
   "execution_count": 194,
   "id": "39b10367",
   "metadata": {},
   "outputs": [
    {
     "name": "stdout",
     "output_type": "stream",
     "text": [
      "Enter a number here: 27\n"
     ]
    }
   ],
   "source": [
    "result = int(input('Enter a number here: '))"
   ]
  },
  {
   "cell_type": "code",
   "execution_count": 195,
   "id": "0f312ba0",
   "metadata": {},
   "outputs": [
    {
     "data": {
      "text/plain": [
       "int"
      ]
     },
     "execution_count": 195,
     "metadata": {},
     "output_type": "execute_result"
    }
   ],
   "source": [
    "type(result)"
   ]
  },
  {
   "cell_type": "markdown",
   "id": "7b77459b",
   "metadata": {},
   "source": [
    "### List Comprehensions"
   ]
  },
  {
   "cell_type": "code",
   "execution_count": 196,
   "id": "b6952e92",
   "metadata": {},
   "outputs": [
    {
     "name": "stdout",
     "output_type": "stream",
     "text": [
      "['h', 'e', 'l', 'l', 'o']\n"
     ]
    }
   ],
   "source": [
    "mystring = 'hello'\n",
    "mylist = []\n",
    "for letter in mystring:\n",
    "    mylist.append(letter)\n",
    "print (mylist)"
   ]
  },
  {
   "cell_type": "code",
   "execution_count": 197,
   "id": "9c6b352e",
   "metadata": {},
   "outputs": [
    {
     "name": "stdout",
     "output_type": "stream",
     "text": [
      "['h', 'e', 'l', 'l', 'o']\n"
     ]
    }
   ],
   "source": [
    "# This can also be written as:\n",
    "mystring = 'hello'\n",
    "mylist = [letter for letter in mystring]\n",
    "print(mylist)"
   ]
  },
  {
   "cell_type": "code",
   "execution_count": 198,
   "id": "9bcb7b2f",
   "metadata": {},
   "outputs": [
    {
     "name": "stdout",
     "output_type": "stream",
     "text": [
      "[0, 1, 2, 3, 4, 5, 6, 7, 8, 9, 10]\n"
     ]
    }
   ],
   "source": [
    "mylist = [num for num in range(0, 11)]\n",
    "print(mylist)"
   ]
  },
  {
   "cell_type": "code",
   "execution_count": 199,
   "id": "cc263499",
   "metadata": {},
   "outputs": [
    {
     "name": "stdout",
     "output_type": "stream",
     "text": [
      "[0, 'odd', 2, 'odd', 4, 'odd', 6, 'odd', 8, 'odd', 10]\n"
     ]
    }
   ],
   "source": [
    "results = [x if x%2 == 0 else 'odd' for x in range(0, 11)]\n",
    "print(results)"
   ]
  },
  {
   "cell_type": "code",
   "execution_count": 200,
   "id": "761696ad",
   "metadata": {},
   "outputs": [
    {
     "name": "stdout",
     "output_type": "stream",
     "text": [
      "[0, 1, 4, 9, 16, 25, 36, 49, 64, 81, 100]\n"
     ]
    }
   ],
   "source": [
    "mylist = [num**2 for num in range(0, 11)]\n",
    "print(mylist)"
   ]
  },
  {
   "cell_type": "code",
   "execution_count": 201,
   "id": "1d1015a9",
   "metadata": {},
   "outputs": [
    {
     "name": "stdout",
     "output_type": "stream",
     "text": [
      "[0, 1, 16, 81, 256, 625, 1296, 2401, 4096, 6561, 10000]\n"
     ]
    }
   ],
   "source": [
    "mylist = [num**2 for num in [num**2 for num in range(11)]]\n",
    "print(mylist)"
   ]
  },
  {
   "cell_type": "code",
   "execution_count": 202,
   "id": "623613f9",
   "metadata": {},
   "outputs": [
    {
     "name": "stdout",
     "output_type": "stream",
     "text": [
      "[0, 4, 16, 36, 64, 100]\n"
     ]
    }
   ],
   "source": [
    "mylist = [num**2 for num in range(0, 11) if num%2==0]\n",
    "print(mylist)"
   ]
  },
  {
   "cell_type": "code",
   "execution_count": 203,
   "id": "1e735ad4",
   "metadata": {},
   "outputs": [
    {
     "name": "stdout",
     "output_type": "stream",
     "text": [
      "[86.0]\n"
     ]
    }
   ],
   "source": [
    "celcius = [30]\n",
    "fahrenheit = []\n",
    "for temp in celcius:\n",
    "    fahrenheit.append(( (9/5)*temp + 32))\n",
    "print(fahrenheit)"
   ]
  },
  {
   "cell_type": "code",
   "execution_count": 204,
   "id": "e1498140",
   "metadata": {},
   "outputs": [
    {
     "name": "stdout",
     "output_type": "stream",
     "text": [
      "[86.0]\n"
     ]
    }
   ],
   "source": [
    "# This can also be written as\n",
    "celsius = [30]\n",
    "fahrenheit = [((9/5)*temp + 32) for temp in celsius ]\n",
    "print(fahrenheit)"
   ]
  },
  {
   "cell_type": "code",
   "execution_count": 205,
   "id": "090b49ce",
   "metadata": {},
   "outputs": [
    {
     "name": "stdout",
     "output_type": "stream",
     "text": [
      "[2, 20, 200, 4, 40, 400, 6, 60, 600]\n"
     ]
    }
   ],
   "source": [
    "mylist = []\n",
    "for x in [2, 4, 6]:\n",
    "    for y in [1, 10, 100]:\n",
    "        mylist.append(x*y)\n",
    "print(mylist)"
   ]
  },
  {
   "cell_type": "code",
   "execution_count": 206,
   "id": "a7291dc0",
   "metadata": {},
   "outputs": [
    {
     "name": "stdout",
     "output_type": "stream",
     "text": [
      "[2, 20, 200, 4, 40, 400, 6, 60, 600]\n"
     ]
    }
   ],
   "source": [
    "# This can be written as\n",
    "mylist = [x*y for x in [2, 4, 6] for y in [1, 10, 100]]\n",
    "print(mylist)"
   ]
  },
  {
   "cell_type": "markdown",
   "id": "e050d2e1",
   "metadata": {},
   "source": [
    "### def Keyword"
   ]
  },
  {
   "cell_type": "code",
   "execution_count": 207,
   "id": "d15b1b5d",
   "metadata": {},
   "outputs": [
    {
     "name": "stdout",
     "output_type": "stream",
     "text": [
      "hello\n",
      "how\n",
      "are\n",
      "you\n"
     ]
    }
   ],
   "source": [
    "def sayhello():\n",
    "    print('hello')\n",
    "    print('how')\n",
    "    print('are')\n",
    "    print('you')\n",
    "sayhello()"
   ]
  },
  {
   "cell_type": "code",
   "execution_count": 208,
   "id": "9a99bd06",
   "metadata": {},
   "outputs": [
    {
     "name": "stdout",
     "output_type": "stream",
     "text": [
      "Hello Krishna\n"
     ]
    }
   ],
   "source": [
    "def sayhello(name):\n",
    "    print(f'Hello {name}')\n",
    "sayhello('Krishna')"
   ]
  },
  {
   "cell_type": "code",
   "execution_count": 209,
   "id": "0f659fd3",
   "metadata": {},
   "outputs": [
    {
     "name": "stdout",
     "output_type": "stream",
     "text": [
      "Hello Krishna\n"
     ]
    }
   ],
   "source": [
    "# You can write this also as\n",
    "def sayhello(name = 'Krishna'):\n",
    "    print(f'Hello {name}')\n",
    "sayhello()"
   ]
  },
  {
   "cell_type": "code",
   "execution_count": 210,
   "id": "eb80cffb",
   "metadata": {},
   "outputs": [
    {
     "data": {
      "text/plain": [
       "30"
      ]
     },
     "execution_count": 210,
     "metadata": {},
     "output_type": "execute_result"
    }
   ],
   "source": [
    "def addnum(num1, num2):\n",
    "    return num1 + num2\n",
    "addnum(10, 20)"
   ]
  },
  {
   "cell_type": "code",
   "execution_count": 211,
   "id": "2f472422",
   "metadata": {},
   "outputs": [
    {
     "data": {
      "text/plain": [
       "'1020'"
      ]
     },
     "execution_count": 211,
     "metadata": {},
     "output_type": "execute_result"
    }
   ],
   "source": [
    "def addnum(num1, num2):\n",
    "    return num1 + num2\n",
    "addnum('10', '20')"
   ]
  },
  {
   "cell_type": "code",
   "execution_count": 212,
   "id": "64a402fb",
   "metadata": {},
   "outputs": [
    {
     "name": "stdout",
     "output_type": "stream",
     "text": [
      "30\n"
     ]
    }
   ],
   "source": [
    "def printresult(num1, num2):\n",
    "    print(num1 + num2)\n",
    "result = printresult(10, 20)\n",
    "result"
   ]
  },
  {
   "cell_type": "code",
   "execution_count": 213,
   "id": "d06e8d32",
   "metadata": {},
   "outputs": [],
   "source": [
    "def myfunc(a, b):\n",
    "    print(a + b)\n",
    "    return a + b"
   ]
  },
  {
   "cell_type": "code",
   "execution_count": 214,
   "id": "32738706",
   "metadata": {},
   "outputs": [
    {
     "name": "stdout",
     "output_type": "stream",
     "text": [
      "30\n"
     ]
    }
   ],
   "source": [
    "# This print the solution\n",
    "result = myfunc(10, 20)"
   ]
  },
  {
   "cell_type": "code",
   "execution_count": 215,
   "id": "7f812bf6",
   "metadata": {},
   "outputs": [
    {
     "data": {
      "text/plain": [
       "30"
      ]
     },
     "execution_count": 215,
     "metadata": {},
     "output_type": "execute_result"
    }
   ],
   "source": [
    "# This returns the solution\n",
    "result"
   ]
  },
  {
   "cell_type": "code",
   "execution_count": 216,
   "id": "a0230bdc",
   "metadata": {},
   "outputs": [],
   "source": [
    "def evencheck(number):\n",
    "    result = number % 2 == 0\n",
    "    return result"
   ]
  },
  {
   "cell_type": "code",
   "execution_count": 217,
   "id": "ca63f637",
   "metadata": {},
   "outputs": [
    {
     "data": {
      "text/plain": [
       "True"
      ]
     },
     "execution_count": 217,
     "metadata": {},
     "output_type": "execute_result"
    }
   ],
   "source": [
    "evencheck(20)"
   ]
  },
  {
   "cell_type": "code",
   "execution_count": 218,
   "id": "a42fb9a7",
   "metadata": {},
   "outputs": [
    {
     "data": {
      "text/plain": [
       "False"
      ]
     },
     "execution_count": 218,
     "metadata": {},
     "output_type": "execute_result"
    }
   ],
   "source": [
    "evencheck(21)"
   ]
  },
  {
   "cell_type": "code",
   "execution_count": 219,
   "id": "d7266095",
   "metadata": {},
   "outputs": [],
   "source": [
    "def checkevenlist(numlist):\n",
    "    for number in numlist:\n",
    "        if number % 2 == 0:\n",
    "            return True\n",
    "        else:\n",
    "            pass # If you put 'return False' before putting 'pass' it will give the output based on the first number in the list\n",
    "    return False"
   ]
  },
  {
   "cell_type": "code",
   "execution_count": 220,
   "id": "16046103",
   "metadata": {},
   "outputs": [
    {
     "data": {
      "text/plain": [
       "True"
      ]
     },
     "execution_count": 220,
     "metadata": {},
     "output_type": "execute_result"
    }
   ],
   "source": [
    "checkevenlist([1, 2, 5])"
   ]
  },
  {
   "cell_type": "code",
   "execution_count": 221,
   "id": "4d16b11e",
   "metadata": {},
   "outputs": [
    {
     "data": {
      "text/plain": [
       "False"
      ]
     },
     "execution_count": 221,
     "metadata": {},
     "output_type": "execute_result"
    }
   ],
   "source": [
    "checkevenlist([1, 3, 5])"
   ]
  },
  {
   "cell_type": "code",
   "execution_count": 222,
   "id": "73768ed5",
   "metadata": {},
   "outputs": [],
   "source": [
    "# To get the numbers instead of True/False the code will be\n",
    "def checkevenlist(numlist):\n",
    "    evennumbers = []\n",
    "    for number in numlist:\n",
    "        if number % 2 == 0:\n",
    "            evennumbers.append(number)\n",
    "            \n",
    "        else:\n",
    "            pass\n",
    "    return evennumbers"
   ]
  },
  {
   "cell_type": "code",
   "execution_count": 223,
   "id": "752f9cd2",
   "metadata": {},
   "outputs": [
    {
     "data": {
      "text/plain": [
       "[2]"
      ]
     },
     "execution_count": 223,
     "metadata": {},
     "output_type": "execute_result"
    }
   ],
   "source": [
    "checkevenlist([1, 2, 5])"
   ]
  },
  {
   "cell_type": "code",
   "execution_count": 224,
   "id": "97e97144",
   "metadata": {},
   "outputs": [
    {
     "data": {
      "text/plain": [
       "[]"
      ]
     },
     "execution_count": 224,
     "metadata": {},
     "output_type": "execute_result"
    }
   ],
   "source": [
    "checkevenlist([1, 3, 5])"
   ]
  },
  {
   "cell_type": "code",
   "execution_count": 225,
   "id": "98803076",
   "metadata": {},
   "outputs": [
    {
     "name": "stdout",
     "output_type": "stream",
     "text": [
      "('c', 300)\n"
     ]
    }
   ],
   "source": [
    "workhours = [('a', 100), ('b', 200), ('c', 300)]\n",
    "\n",
    "def employeecheck(workhours):\n",
    "    currentmax = 0\n",
    "    employeeofthemonth = ''\n",
    "    \n",
    "    for employee, hours in workhours:\n",
    "        if hours > currentmax:\n",
    "            currentmax = hours\n",
    "            employeeofthemonth = employee\n",
    "        else:\n",
    "            pass\n",
    "        \n",
    "    return (employeeofthemonth, currentmax)\n",
    "\n",
    "print(employeecheck(workhours))"
   ]
  },
  {
   "cell_type": "code",
   "execution_count": 226,
   "id": "d21d4660",
   "metadata": {},
   "outputs": [
    {
     "name": "stdout",
     "output_type": "stream",
     "text": [
      "c\n",
      "300\n"
     ]
    }
   ],
   "source": [
    "name, hours = employeecheck(workhours)\n",
    "print(name)\n",
    "print(hours)"
   ]
  },
  {
   "cell_type": "code",
   "execution_count": 1,
   "id": "444439e8",
   "metadata": {},
   "outputs": [
    {
     "name": "stdout",
     "output_type": "stream",
     "text": [
      "['', 'O', '']\n"
     ]
    }
   ],
   "source": [
    "from random import shuffle\n",
    "\n",
    "mylist = ['','O','']\n",
    "\n",
    "def shufflelist(mylist):\n",
    "    shuffle(mylist)\n",
    "    return mylist\n",
    "print(shufflelist(mylist))"
   ]
  },
  {
   "cell_type": "code",
   "execution_count": 2,
   "id": "fcb53a95",
   "metadata": {},
   "outputs": [
    {
     "name": "stdout",
     "output_type": "stream",
     "text": [
      "Pick a number: 2\n",
      "2\n"
     ]
    }
   ],
   "source": [
    "def playerguess():\n",
    "    guess = ''\n",
    "    while guess not in ['0', '1', '2']: # If the number is between 0 to 2 then the guess will be correct\n",
    "        guess = input(\"Pick a number: \")\n",
    "    return int(guess)\n",
    "print(playerguess())"
   ]
  },
  {
   "cell_type": "code",
   "execution_count": 3,
   "id": "4ff3a14d",
   "metadata": {},
   "outputs": [],
   "source": [
    "def checkguess(mylist, guess):\n",
    "    if mylist[guess] == 'O':\n",
    "        print('Correct Guess!')\n",
    "    else:\n",
    "        print('Wrong! Better luck next time')\n",
    "        print(mylist)"
   ]
  },
  {
   "cell_type": "code",
   "execution_count": 4,
   "id": "15ad5dae",
   "metadata": {},
   "outputs": [
    {
     "name": "stdout",
     "output_type": "stream",
     "text": [
      "Pick a number: 1\n",
      "Wrong! Better luck next time\n",
      "['O', ' ', ' ']\n"
     ]
    }
   ],
   "source": [
    "# Initial list\n",
    "mylist = [' ','O',' ']\n",
    "# Shuffle it\n",
    "mixeduplist = shufflelist(mylist)\n",
    "# Get user's guess\n",
    "guess = playerguess()\n",
    "# Check User's Guess\n",
    "checkguess(mixeduplist, guess)"
   ]
  },
  {
   "cell_type": "code",
   "execution_count": 6,
   "id": "6a059094",
   "metadata": {},
   "outputs": [
    {
     "name": "stdout",
     "output_type": "stream",
     "text": [
      "Pick a number: 1\n",
      "Correct Guess!\n"
     ]
    }
   ],
   "source": [
    "# Initial list\n",
    "mylist = [' ','O',' ']\n",
    "# Shuffle it\n",
    "mixeduplist = shufflelist(mylist)\n",
    "# Get user's guess\n",
    "guess = playerguess()\n",
    "# Check User's Guess\n",
    "checkguess(mixeduplist, guess)"
   ]
  },
  {
   "cell_type": "code",
   "execution_count": 7,
   "id": "2b17d07c",
   "metadata": {},
   "outputs": [
    {
     "name": "stdout",
     "output_type": "stream",
     "text": [
      "Pick a number: 1\n",
      "Wrong! Better luck next time\n",
      "[' ', ' ', 'O']\n"
     ]
    }
   ],
   "source": [
    "# On combining all the four codes this how it will appear\n",
    "from random import shuffle\n",
    "\n",
    "mylist = ['','O','']\n",
    "\n",
    "def shufflelist(mylist):\n",
    "    shuffle(mylist)\n",
    "    return mylist\n",
    "\n",
    "def playerguess():\n",
    "    guess = ''\n",
    "    while guess not in ['0', '1', '2']:\n",
    "        guess = input(\"Pick a number: \")\n",
    "    return int(guess)\n",
    "\n",
    "def checkguess(mylist, guess):\n",
    "    if mylist[guess] == 'O':\n",
    "        print('Correct Guess!')\n",
    "    else:\n",
    "        print('Wrong! Better luck next time')\n",
    "        print(mylist)\n",
    "        \n",
    "mylist = [' ','O',' ']\n",
    "mixeduplist = shufflelist(mylist)\n",
    "guess = playerguess()\n",
    "checkguess(mixeduplist, guess)"
   ]
  },
  {
   "cell_type": "markdown",
   "id": "7e0b2f0c",
   "metadata": {},
   "source": [
    "### *args & **kwargs"
   ]
  },
  {
   "cell_type": "code",
   "execution_count": 8,
   "id": "8f3d9205",
   "metadata": {},
   "outputs": [
    {
     "data": {
      "text/plain": [
       "55.0"
      ]
     },
     "execution_count": 8,
     "metadata": {},
     "output_type": "execute_result"
    }
   ],
   "source": [
    "def myfunc(a,b):\n",
    "    return sum((a,b))*0.5\n",
    "myfunc(10, 100)"
   ]
  },
  {
   "cell_type": "code",
   "execution_count": 9,
   "id": "56255e65",
   "metadata": {},
   "outputs": [
    {
     "data": {
      "text/plain": [
       "1055.0"
      ]
     },
     "execution_count": 9,
     "metadata": {},
     "output_type": "execute_result"
    }
   ],
   "source": [
    "# To add more numbers we can do\n",
    "def myfunc(a, b, c = 0, d = 0): \n",
    "    return sum((a,b,c,d))*0.5\n",
    "myfunc(10, 100, 1000, 1000) # If we don't enter the values of c and d here then the system will consider the value as zerodef"
   ]
  },
  {
   "cell_type": "code",
   "execution_count": 10,
   "id": "8e183657",
   "metadata": {},
   "outputs": [
    {
     "data": {
      "text/plain": [
       "50.0"
      ]
     },
     "execution_count": 10,
     "metadata": {},
     "output_type": "execute_result"
    }
   ],
   "source": [
    "def myfunc(*args):\n",
    "    return sum(args)*0.5\n",
    "myfunc(70, 10, 20)"
   ]
  },
  {
   "cell_type": "code",
   "execution_count": 11,
   "id": "f99ae37c",
   "metadata": {},
   "outputs": [
    {
     "name": "stdout",
     "output_type": "stream",
     "text": [
      "My favorite fruit is pineapple\n",
      "I don't like fruit\n"
     ]
    }
   ],
   "source": [
    "def myfunc(**kwargs):\n",
    "    if 'fruit' in kwargs:\n",
    "        print(f\"My favorite fruit is {kwargs['fruit']}\")\n",
    "    else:\n",
    "        print(\"I don't like fruit\")\n",
    "        \n",
    "myfunc(fruit='pineapple')\n",
    "myfunc()"
   ]
  },
  {
   "cell_type": "code",
   "execution_count": 12,
   "id": "0ab5eaf3",
   "metadata": {},
   "outputs": [
    {
     "name": "stdout",
     "output_type": "stream",
     "text": [
      "I like eggs and spam and my favorite fruit is cherries\n",
      "May I have some orange juice?\n"
     ]
    }
   ],
   "source": [
    "def myfunc(*args, **kwargs):\n",
    "    if 'fruit' and 'juice' in kwargs:\n",
    "        print(f\"I like {' and '.join(args)} and my favorite fruit is {kwargs['fruit']}\")\n",
    "        print(f\"May I have some {kwargs['juice']} juice?\")\n",
    "    else:\n",
    "        pass\n",
    "        \n",
    "myfunc('eggs','spam', fruit = 'cherries', juice = 'orange')"
   ]
  },
  {
   "cell_type": "markdown",
   "id": "29430946",
   "metadata": {},
   "source": [
    "### map Function"
   ]
  },
  {
   "cell_type": "code",
   "execution_count": 13,
   "id": "6a777536",
   "metadata": {},
   "outputs": [
    {
     "data": {
      "text/plain": [
       "[1, 4, 9, 16, 25]"
      ]
     },
     "execution_count": 13,
     "metadata": {},
     "output_type": "execute_result"
    }
   ],
   "source": [
    "def square(num):\n",
    "    return num ** 2\n",
    "my_nums = [1, 2, 3, 4, 5]\n",
    "list(map(square, my_nums))"
   ]
  },
  {
   "cell_type": "markdown",
   "id": "252734a4",
   "metadata": {},
   "source": [
    "### filter Function"
   ]
  },
  {
   "cell_type": "code",
   "execution_count": 14,
   "id": "15360e13",
   "metadata": {},
   "outputs": [
    {
     "data": {
      "text/plain": [
       "[2, 4, 6]"
      ]
     },
     "execution_count": 14,
     "metadata": {},
     "output_type": "execute_result"
    }
   ],
   "source": [
    "def check_even(num):\n",
    "    return num % 2 == 0\n",
    "my_nums = [1, 2, 3, 4, 5, 6]\n",
    "list(filter(check_even, my_nums))"
   ]
  },
  {
   "cell_type": "markdown",
   "id": "713114c0",
   "metadata": {},
   "source": [
    "### lambda Function"
   ]
  },
  {
   "cell_type": "code",
   "execution_count": 15,
   "id": "0af44153",
   "metadata": {},
   "outputs": [
    {
     "data": {
      "text/plain": [
       "4"
      ]
     },
     "execution_count": 15,
     "metadata": {},
     "output_type": "execute_result"
    }
   ],
   "source": [
    "def square(num): return num**2\n",
    "square(2)"
   ]
  },
  {
   "cell_type": "code",
   "execution_count": 16,
   "id": "d37a865e",
   "metadata": {},
   "outputs": [
    {
     "data": {
      "text/plain": [
       "4"
      ]
     },
     "execution_count": 16,
     "metadata": {},
     "output_type": "execute_result"
    }
   ],
   "source": [
    "# The above code can also be written as:\n",
    "square = lambda num: num ** 2\n",
    "square(2)"
   ]
  },
  {
   "cell_type": "code",
   "execution_count": 17,
   "id": "0cfca46f",
   "metadata": {},
   "outputs": [
    {
     "name": "stdout",
     "output_type": "stream",
     "text": [
      "[1, 4, 9, 16, 25, 36]\n",
      "[2, 4, 6]\n"
     ]
    }
   ],
   "source": [
    "# Using all the 3 functions in a single code:\n",
    "my_nums = [1, 2, 3, 4, 5, 6]\n",
    "print(list(map(lambda num: num ** 2, my_nums)))\n",
    "print(list(filter(lambda n: n % 2 == 0, my_nums)))"
   ]
  },
  {
   "cell_type": "markdown",
   "id": "b6d232b9",
   "metadata": {},
   "source": [
    "### LEGB Rule:\n",
    "- L (Local): Names assigned in any way within a function (def or lambda), and not declared global in that function.\n",
    "- E (Enclosing function locals): Names in the local scope of any and all enclosing functions (def or lambda), from inner to outer.\n",
    "- G (Global (module)): Names assigned at the top-level of a module file, or declared global in a def within the file.\n",
    "- B (Built-in): Names preassigned in the built-in names module : open, range, SyntaxError,..."
   ]
  },
  {
   "cell_type": "code",
   "execution_count": 18,
   "id": "7bf3b96a",
   "metadata": {},
   "outputs": [
    {
     "name": "stdout",
     "output_type": "stream",
     "text": [
      "Hello Dharma\n"
     ]
    }
   ],
   "source": [
    "# Local\n",
    "name = 'Sharma'\n",
    "\n",
    "def greet():\n",
    "    name = 'Varma'\n",
    "    \n",
    "    def hello():\n",
    "        name = 'Dharma'\n",
    "        print ('Hello ' + name)\n",
    "    hello()\n",
    "\n",
    "greet()    "
   ]
  },
  {
   "cell_type": "code",
   "execution_count": 19,
   "id": "275c99b9",
   "metadata": {},
   "outputs": [
    {
     "name": "stdout",
     "output_type": "stream",
     "text": [
      "Hello Varma\n"
     ]
    }
   ],
   "source": [
    "# Enclosing Function Locals\n",
    "name = 'Sharma'\n",
    "\n",
    "def greet():\n",
    "    name = 'Varma'\n",
    "    \n",
    "    def hello():\n",
    "        # name = 'Dharma'\n",
    "        print ('Hello ' + name)\n",
    "    hello()\n",
    "    \n",
    "greet()"
   ]
  },
  {
   "cell_type": "code",
   "execution_count": 20,
   "id": "9208f8ba",
   "metadata": {},
   "outputs": [
    {
     "name": "stdout",
     "output_type": "stream",
     "text": [
      "Hello Sharma\n"
     ]
    }
   ],
   "source": [
    "# Global\n",
    "name = 'Sharma'\n",
    "\n",
    "def greet():\n",
    "    # name = 'Varma'\n",
    "    \n",
    "    def hello():\n",
    "        # name = 'Dharma'\n",
    "        print ('Hello ' + name)\n",
    "    hello()\n",
    "    \n",
    "greet()"
   ]
  },
  {
   "cell_type": "code",
   "execution_count": 21,
   "id": "f9cdd071",
   "metadata": {},
   "outputs": [
    {
     "data": {
      "text/plain": [
       "<function len(obj, /)>"
      ]
     },
     "execution_count": 21,
     "metadata": {},
     "output_type": "execute_result"
    }
   ],
   "source": [
    "#Built-in\n",
    "len"
   ]
  },
  {
   "cell_type": "markdown",
   "id": "f44b56c8",
   "metadata": {},
   "source": [
    "### del Function"
   ]
  },
  {
   "cell_type": "code",
   "execution_count": 22,
   "id": "126f3a57",
   "metadata": {},
   "outputs": [],
   "source": [
    "def hello():\n",
    "    return \"Hello!\""
   ]
  },
  {
   "cell_type": "code",
   "execution_count": 23,
   "id": "00390663",
   "metadata": {},
   "outputs": [
    {
     "data": {
      "text/plain": [
       "'Hello!'"
      ]
     },
     "execution_count": 23,
     "metadata": {},
     "output_type": "execute_result"
    }
   ],
   "source": [
    "hello()"
   ]
  },
  {
   "cell_type": "code",
   "execution_count": 24,
   "id": "fd6b494d",
   "metadata": {},
   "outputs": [
    {
     "data": {
      "text/plain": [
       "'Hello!'"
      ]
     },
     "execution_count": 24,
     "metadata": {},
     "output_type": "execute_result"
    }
   ],
   "source": [
    "greet = hello\n",
    "greet()"
   ]
  },
  {
   "cell_type": "code",
   "execution_count": 25,
   "id": "d33e2e66",
   "metadata": {},
   "outputs": [
    {
     "ename": "NameError",
     "evalue": "name 'hello' is not defined",
     "output_type": "error",
     "traceback": [
      "\u001b[1;31m---------------------------------------------------------------------------\u001b[0m",
      "\u001b[1;31mNameError\u001b[0m                                 Traceback (most recent call last)",
      "Cell \u001b[1;32mIn[25], line 2\u001b[0m\n\u001b[0;32m      1\u001b[0m \u001b[38;5;28;01mdel\u001b[39;00m hello \n\u001b[1;32m----> 2\u001b[0m hello()\n",
      "\u001b[1;31mNameError\u001b[0m: name 'hello' is not defined"
     ]
    }
   ],
   "source": [
    "del hello \n",
    "hello()"
   ]
  },
  {
   "cell_type": "markdown",
   "id": "878372fc",
   "metadata": {},
   "source": [
    "### Python Decorators\n",
    "Decorators can be thought of as functions which modify the functionality of another function. They help to make your code shorter."
   ]
  },
  {
   "cell_type": "code",
   "execution_count": 26,
   "id": "1f020b00",
   "metadata": {},
   "outputs": [],
   "source": [
    "def new_decorator(func):\n",
    "\n",
    "    def wrap_func():\n",
    "        print(\"Code would be here, before executing the func\")\n",
    "\n",
    "        func()\n",
    "\n",
    "        print(\"Code here will execute after the func()\")\n",
    "\n",
    "    return wrap_func"
   ]
  },
  {
   "cell_type": "code",
   "execution_count": 27,
   "id": "056483b1",
   "metadata": {},
   "outputs": [
    {
     "name": "stdout",
     "output_type": "stream",
     "text": [
      "Code would be here, before executing the func\n",
      "This function is in need of a Decorator\n",
      "Code here will execute after the func()\n"
     ]
    }
   ],
   "source": [
    "def func_needs_decorator():\n",
    "    print(\"This function is in need of a Decorator\")\n",
    "    \n",
    "func_needs_decorator = new_decorator(func_needs_decorator)\n",
    "func_needs_decorator()"
   ]
  },
  {
   "cell_type": "code",
   "execution_count": 28,
   "id": "fe43b73f",
   "metadata": {},
   "outputs": [
    {
     "name": "stdout",
     "output_type": "stream",
     "text": [
      "Code would be here, before executing the func\n",
      "This function is in need of a Decorator\n",
      "Code here will execute after the func()\n"
     ]
    }
   ],
   "source": [
    "# The above code can also be written as:\n",
    "@new_decorator\n",
    "def func_needs_decorator():\n",
    "    print(\"This function is in need of a Decorator\")\n",
    "func_needs_decorator()"
   ]
  },
  {
   "cell_type": "markdown",
   "id": "7682b26b",
   "metadata": {},
   "source": [
    "### Python Generators\n",
    "They allow us to return a value and then resume where we left off, using the yield statement to generate a sequence of values over time."
   ]
  },
  {
   "cell_type": "code",
   "execution_count": 29,
   "id": "7327e0fd",
   "metadata": {},
   "outputs": [
    {
     "name": "stdout",
     "output_type": "stream",
     "text": [
      "0\n",
      "1\n",
      "8\n",
      "27\n",
      "64\n"
     ]
    }
   ],
   "source": [
    "def create_cubes(n):\n",
    "    result = []\n",
    "    for x in range(n):\n",
    "        result.append(x**3)\n",
    "    return result\n",
    "\n",
    "for x in create_cubes(5):\n",
    "    print(x)"
   ]
  },
  {
   "cell_type": "code",
   "execution_count": 30,
   "id": "66c09af7",
   "metadata": {},
   "outputs": [
    {
     "name": "stdout",
     "output_type": "stream",
     "text": [
      "0\n",
      "1\n",
      "8\n",
      "27\n",
      "64\n"
     ]
    }
   ],
   "source": [
    "#The above code can also be written as:\n",
    "def create_cubes(n):\n",
    "    for x in range(n):\n",
    "        yield x**3\n",
    "\n",
    "for x in create_cubes(5):\n",
    "    print(x)"
   ]
  }
 ],
 "metadata": {
  "kernelspec": {
   "display_name": "Python 3 (ipykernel)",
   "language": "python",
   "name": "python3"
  },
  "language_info": {
   "codemirror_mode": {
    "name": "ipython",
    "version": 3
   },
   "file_extension": ".py",
   "mimetype": "text/x-python",
   "name": "python",
   "nbconvert_exporter": "python",
   "pygments_lexer": "ipython3",
   "version": "3.11.5"
  }
 },
 "nbformat": 4,
 "nbformat_minor": 5
}
